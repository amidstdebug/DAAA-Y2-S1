{
 "cells": [
  {
   "cell_type": "code",
   "execution_count": 4,
   "metadata": {
    "collapsed": true
   },
   "outputs": [
    {
     "name": "stdout",
     "output_type": "stream",
     "text": [
      "[[  1.    1.    1.   10. ]\n",
      " [ 20.   30.   16.  200. ]\n",
      " [  2.4   1.9   1.8  20. ]]\n",
      "[[ 1.   1.   1.  10. ]\n",
      " [ 0.  10.  -4.   0. ]\n",
      " [ 0.   0.  -0.8 -4. ]]\n",
      "[[ 1. -0. -0.  3.]\n",
      " [ 0.  1.  0.  2.]\n",
      " [-0. -0.  1.  5.]]\n"
     ]
    },
    {
     "data": {
      "text/plain": "array([3., 2., 5.])"
     },
     "execution_count": 4,
     "metadata": {},
     "output_type": "execute_result"
    }
   ],
   "source": [
    "import numpy as np\n",
    "np.set_printoptions(suppress=True)\n",
    "# convert to row echelon form\n",
    "A = np.array([[1, 1, 1], [20, 30, 16], [2.4, 1.9, 1.8]], dtype='float')\n",
    "b = np.array([10, 200, 20])\n",
    "Ab = np.hstack([A, b.reshape(-1, 1)])\n",
    "n = len(b)\n",
    "print(Ab)\n",
    "#Converts augmented matrix to row echelon form\n",
    "for i in range(n):\n",
    "    ############ MODIFICATION START #############\n",
    "    #If leading number is zero, swap with a row below where leading number is non-zero\n",
    "    if Ab[i,i] == 0:\n",
    "        temp = Ab[i].copy()\n",
    "\n",
    "        for k in range (i + 1, n):\n",
    "            if Ab[k, i] != 0:\n",
    "                Ab[i] = Ab[k].copy()\n",
    "                Ab[k] = temp.copy()\n",
    "                break\n",
    "    ############ MODIFICATION END #############\n",
    "    a = Ab[i]\n",
    "    for j in range(i + 1, n):\n",
    "        b = Ab[j]\n",
    "        m = b[i] / a[i]\n",
    "        Ab[j] = b - m * a\n",
    "\n",
    "print(Ab)\n",
    "\n",
    "# answer output\n",
    "x = Ab[:, n]\n",
    "x\n",
    "\n",
    "for i in range(n - 1, -1, -1):\n",
    "    Ab[i] = Ab[i] / Ab[i, i]\n",
    "    a = Ab[i]\n",
    "\n",
    "    for j in range(i - 1, -1, -1):\n",
    "        b = Ab[j]\n",
    "        m = a[i] / b[i]\n",
    "        Ab[j] = a - m * b\n",
    "\n",
    "print(Ab)\n",
    "\n",
    "# answer output\n",
    "x = Ab[:, n]\n",
    "x"
   ]
  },
  {
   "cell_type": "code",
   "execution_count": 38,
   "outputs": [],
   "source": [],
   "metadata": {
    "collapsed": false,
    "pycharm": {
     "name": "#%%\n"
    }
   }
  },
  {
   "cell_type": "code",
   "execution_count": 39,
   "outputs": [
    {
     "name": "stdout",
     "output_type": "stream",
     "text": [
      "[[ 1 -1]\n",
      " [ 5 38]]\n",
      "[[ 6. -1.]\n",
      " [ 1.  0.]]\n"
     ]
    }
   ],
   "source": [
    "A = np.array(([2,4],[1,5]))\n",
    "B = np.array(([0,1],[-1,6]))\n",
    "C = np.array(([-2,3],[1,5]))\n",
    "Y = A-np.transpose(B)\n",
    "ans = A+np.dot(np.transpose(B),C)\n",
    "print(ans)\n",
    "\n",
    "print(np.linalg.inv(B))"
   ],
   "metadata": {
    "collapsed": false,
    "pycharm": {
     "name": "#%%\n"
    }
   }
  },
  {
   "cell_type": "code",
   "execution_count": 66,
   "outputs": [
    {
     "data": {
      "text/plain": "array([[10, 40],\n       [11, 45],\n       [15, 53]])"
     },
     "metadata": {},
     "output_type": "display_data"
    },
    {
     "name": "stdout",
     "output_type": "stream",
     "text": [
      "[12. 46.]\n",
      "[12. 46.]\n",
      "[[ 7. 17.]\n",
      " [17. 43.]]\n",
      "[[1.         0.97986371]\n",
      " [0.97986371 1.        ]]\n",
      "11.999999999999984\n"
     ]
    }
   ],
   "source": [
    "import numpy as np\n",
    "\n",
    "data = np.array(([10,40],[11,45],[15,53]))\n",
    "display(data)\n",
    "x_bar = np.mean(data, axis=0)\n",
    "print(x_bar)\n",
    "\n",
    "print(np.dot(1/3*np.transpose(data),(np.ones(3))))\n",
    "\n",
    "print(np.cov(data, rowvar=0))\n",
    "print(np.corrcoef(data, rowvar=0))\n",
    "print(np.linalg.det(np.cov(data, rowvar=0)))"
   ],
   "metadata": {
    "collapsed": false,
    "pycharm": {
     "name": "#%%\n"
    }
   }
  },
  {
   "cell_type": "code",
   "execution_count": 41,
   "outputs": [
    {
     "name": "stdout",
     "output_type": "stream",
     "text": [
      "[ 0.24116319 49.75883681] [[-0.92925055 -0.36945016]\n",
      " [ 0.36945016 -0.92925055]]\n",
      "(2,)\n"
     ]
    },
    {
     "data": {
      "text/plain": "     Eigenvalues\nPC1       0.2412\nPC2      49.7588",
      "text/html": "<div>\n<style scoped>\n    .dataframe tbody tr th:only-of-type {\n        vertical-align: middle;\n    }\n\n    .dataframe tbody tr th {\n        vertical-align: top;\n    }\n\n    .dataframe thead th {\n        text-align: right;\n    }\n</style>\n<table border=\"1\" class=\"dataframe\">\n  <thead>\n    <tr style=\"text-align: right;\">\n      <th></th>\n      <th>Eigenvalues</th>\n    </tr>\n  </thead>\n  <tbody>\n    <tr>\n      <th>PC1</th>\n      <td>0.2412</td>\n    </tr>\n    <tr>\n      <th>PC2</th>\n      <td>49.7588</td>\n    </tr>\n  </tbody>\n</table>\n</div>"
     },
     "metadata": {},
     "output_type": "display_data"
    },
    {
     "ename": "ValueError",
     "evalue": "Shape of passed values is (2, 2), indices imply (2, 1)",
     "output_type": "error",
     "traceback": [
      "\u001B[1;31m---------------------------------------------------------------------------\u001B[0m",
      "\u001B[1;31mValueError\u001B[0m                                Traceback (most recent call last)",
      "\u001B[1;32m~\\AppData\\Local\\Temp/ipykernel_13464/3826358793.py\u001B[0m in \u001B[0;36m<module>\u001B[1;34m\u001B[0m\n\u001B[0;32m     10\u001B[0m \u001B[0mdisplay\u001B[0m\u001B[1;33m(\u001B[0m\u001B[0meigvals_df\u001B[0m\u001B[1;33m)\u001B[0m\u001B[1;33m\u001B[0m\u001B[1;33m\u001B[0m\u001B[0m\n\u001B[0;32m     11\u001B[0m \u001B[1;31m# Put the eigenvectors into a dataframe\u001B[0m\u001B[1;33m\u001B[0m\u001B[1;33m\u001B[0m\u001B[1;33m\u001B[0m\u001B[0m\n\u001B[1;32m---> 12\u001B[1;33m \u001B[0meigvecs_df\u001B[0m \u001B[1;33m=\u001B[0m \u001B[0mpd\u001B[0m\u001B[1;33m.\u001B[0m\u001B[0mDataFrame\u001B[0m\u001B[1;33m(\u001B[0m\u001B[0mnp\u001B[0m\u001B[1;33m.\u001B[0m\u001B[0mround\u001B[0m\u001B[1;33m(\u001B[0m\u001B[0mnp\u001B[0m\u001B[1;33m.\u001B[0m\u001B[0mtranspose\u001B[0m\u001B[1;33m(\u001B[0m\u001B[0meigvecs\u001B[0m\u001B[1;33m)\u001B[0m\u001B[1;33m,\u001B[0m\u001B[1;36m4\u001B[0m\u001B[1;33m)\u001B[0m\u001B[1;33m,\u001B[0m\u001B[0mcolumns\u001B[0m\u001B[1;33m=\u001B[0m\u001B[1;33m[\u001B[0m\u001B[1;34m'Eigenvalues'\u001B[0m\u001B[1;33m]\u001B[0m\u001B[1;33m)\u001B[0m\u001B[1;33m\u001B[0m\u001B[1;33m\u001B[0m\u001B[0m\n\u001B[0m\u001B[0;32m     13\u001B[0m \u001B[0meigvecs_df\u001B[0m\u001B[1;33m.\u001B[0m\u001B[0mindex\u001B[0m \u001B[1;33m=\u001B[0m \u001B[1;33m[\u001B[0m\u001B[1;34m'PC{}'\u001B[0m\u001B[1;33m.\u001B[0m\u001B[0mformat\u001B[0m\u001B[1;33m(\u001B[0m\u001B[0mi\u001B[0m\u001B[1;33m)\u001B[0m \u001B[1;32mfor\u001B[0m \u001B[0mi\u001B[0m \u001B[1;32min\u001B[0m \u001B[0mrange\u001B[0m\u001B[1;33m(\u001B[0m\u001B[1;36m1\u001B[0m\u001B[1;33m,\u001B[0m\u001B[0mlen\u001B[0m\u001B[1;33m(\u001B[0m\u001B[0meigvecs_df\u001B[0m\u001B[1;33m)\u001B[0m\u001B[1;33m+\u001B[0m\u001B[1;36m1\u001B[0m\u001B[1;33m)\u001B[0m\u001B[1;33m]\u001B[0m\u001B[1;33m\u001B[0m\u001B[1;33m\u001B[0m\u001B[0m\n\u001B[0;32m     14\u001B[0m \u001B[0mdisplay\u001B[0m\u001B[1;33m(\u001B[0m\u001B[0meigvecs_df\u001B[0m\u001B[1;33m)\u001B[0m\u001B[1;33m\u001B[0m\u001B[1;33m\u001B[0m\u001B[0m\n",
      "\u001B[1;32m~\\anaconda3\\envs\\tensor2\\lib\\site-packages\\pandas\\core\\frame.py\u001B[0m in \u001B[0;36m__init__\u001B[1;34m(self, data, index, columns, dtype, copy)\u001B[0m\n\u001B[0;32m    676\u001B[0m                     \u001B[0mdtype\u001B[0m\u001B[1;33m=\u001B[0m\u001B[0mdtype\u001B[0m\u001B[1;33m,\u001B[0m\u001B[1;33m\u001B[0m\u001B[1;33m\u001B[0m\u001B[0m\n\u001B[0;32m    677\u001B[0m                     \u001B[0mcopy\u001B[0m\u001B[1;33m=\u001B[0m\u001B[0mcopy\u001B[0m\u001B[1;33m,\u001B[0m\u001B[1;33m\u001B[0m\u001B[1;33m\u001B[0m\u001B[0m\n\u001B[1;32m--> 678\u001B[1;33m                     \u001B[0mtyp\u001B[0m\u001B[1;33m=\u001B[0m\u001B[0mmanager\u001B[0m\u001B[1;33m,\u001B[0m\u001B[1;33m\u001B[0m\u001B[1;33m\u001B[0m\u001B[0m\n\u001B[0m\u001B[0;32m    679\u001B[0m                 )\n\u001B[0;32m    680\u001B[0m \u001B[1;33m\u001B[0m\u001B[0m\n",
      "\u001B[1;32m~\\anaconda3\\envs\\tensor2\\lib\\site-packages\\pandas\\core\\internals\\construction.py\u001B[0m in \u001B[0;36mndarray_to_mgr\u001B[1;34m(values, index, columns, dtype, copy, typ)\u001B[0m\n\u001B[0;32m    322\u001B[0m     )\n\u001B[0;32m    323\u001B[0m \u001B[1;33m\u001B[0m\u001B[0m\n\u001B[1;32m--> 324\u001B[1;33m     \u001B[0m_check_values_indices_shape_match\u001B[0m\u001B[1;33m(\u001B[0m\u001B[0mvalues\u001B[0m\u001B[1;33m,\u001B[0m \u001B[0mindex\u001B[0m\u001B[1;33m,\u001B[0m \u001B[0mcolumns\u001B[0m\u001B[1;33m)\u001B[0m\u001B[1;33m\u001B[0m\u001B[1;33m\u001B[0m\u001B[0m\n\u001B[0m\u001B[0;32m    325\u001B[0m \u001B[1;33m\u001B[0m\u001B[0m\n\u001B[0;32m    326\u001B[0m     \u001B[1;32mif\u001B[0m \u001B[0mtyp\u001B[0m \u001B[1;33m==\u001B[0m \u001B[1;34m\"array\"\u001B[0m\u001B[1;33m:\u001B[0m\u001B[1;33m\u001B[0m\u001B[1;33m\u001B[0m\u001B[0m\n",
      "\u001B[1;32m~\\anaconda3\\envs\\tensor2\\lib\\site-packages\\pandas\\core\\internals\\construction.py\u001B[0m in \u001B[0;36m_check_values_indices_shape_match\u001B[1;34m(values, index, columns)\u001B[0m\n\u001B[0;32m    391\u001B[0m         \u001B[0mpassed\u001B[0m \u001B[1;33m=\u001B[0m \u001B[0mvalues\u001B[0m\u001B[1;33m.\u001B[0m\u001B[0mshape\u001B[0m\u001B[1;33m\u001B[0m\u001B[1;33m\u001B[0m\u001B[0m\n\u001B[0;32m    392\u001B[0m         \u001B[0mimplied\u001B[0m \u001B[1;33m=\u001B[0m \u001B[1;33m(\u001B[0m\u001B[0mlen\u001B[0m\u001B[1;33m(\u001B[0m\u001B[0mindex\u001B[0m\u001B[1;33m)\u001B[0m\u001B[1;33m,\u001B[0m \u001B[0mlen\u001B[0m\u001B[1;33m(\u001B[0m\u001B[0mcolumns\u001B[0m\u001B[1;33m)\u001B[0m\u001B[1;33m)\u001B[0m\u001B[1;33m\u001B[0m\u001B[1;33m\u001B[0m\u001B[0m\n\u001B[1;32m--> 393\u001B[1;33m         \u001B[1;32mraise\u001B[0m \u001B[0mValueError\u001B[0m\u001B[1;33m(\u001B[0m\u001B[1;34mf\"Shape of passed values is {passed}, indices imply {implied}\"\u001B[0m\u001B[1;33m)\u001B[0m\u001B[1;33m\u001B[0m\u001B[1;33m\u001B[0m\u001B[0m\n\u001B[0m\u001B[0;32m    394\u001B[0m \u001B[1;33m\u001B[0m\u001B[0m\n\u001B[0;32m    395\u001B[0m \u001B[1;33m\u001B[0m\u001B[0m\n",
      "\u001B[1;31mValueError\u001B[0m: Shape of passed values is (2, 2), indices imply (2, 1)"
     ]
    }
   ],
   "source": [
    "import numpy as np\n",
    "import pandas as pd\n",
    "eigvals, eigvecs = np.linalg.eig(np.cov(data, rowvar=0))\n",
    "\n",
    "\n",
    "print(eigvals,eigvecs)\n",
    "print(eigvals.shape)\n",
    "eigvals_df = pd.DataFrame(np.round(np.transpose(eigvals),4),columns=['Eigenvalues'])\n",
    "eigvals_df.index = ['PC{}'.format(i) for i in range(1,len(eigvals_df)+1)]\n",
    "display(eigvals_df)\n",
    "# Put the eigenvectors into a dataframe\n",
    "eigvecs_df = pd.DataFrame(np.round(np.transpose(eigvecs),4),columns=['Eigenvalues'])\n",
    "eigvecs_df.index = ['PC{}'.format(i) for i in range(1,len(eigvecs_df)+1)]\n",
    "display(eigvecs_df)"
   ],
   "metadata": {
    "collapsed": false,
    "pycharm": {
     "name": "#%%\n"
    }
   }
  },
  {
   "cell_type": "code",
   "execution_count": null,
   "outputs": [],
   "source": [
    "A = np.array(([0,2,-1],[-2,7,-2],[-5,14,-4]))\n",
    "\n",
    "A = A-np.eye(3)\n",
    "print(A)\n",
    "# convert to row echelon form\n",
    "b = np.array([0, 0, 0])\n",
    "Ab = np.hstack([A, b.reshape(-1, 1)])\n",
    "n = len(b)\n",
    "\n",
    "#Converts augmented matrix to row echelon form\n",
    "for i in range(n):\n",
    "    ############ MODIFICATION START #############\n",
    "    #If leading number is zero, swap with a row below where leading number is non-zero\n",
    "    if Ab[i,i] == 0:\n",
    "        temp = Ab[i].copy()\n",
    "\n",
    "        for k in range (i + 1, n):\n",
    "            if Ab[k, i] != 0:\n",
    "                Ab[i] = Ab[k].copy()\n",
    "                Ab[k] = temp.copy()\n",
    "                break\n",
    "    ############ MODIFICATION END #############\n",
    "    a = Ab[i]\n",
    "    for j in range(i + 1, n):\n",
    "        b = Ab[j]\n",
    "        m = b[i] / a[i]\n",
    "        Ab[j] = b - m * a\n",
    "\n",
    "print(Ab)\n",
    "\n",
    "# answer output\n",
    "x = Ab[:, n]\n",
    "\n",
    "x\n"
   ],
   "metadata": {
    "collapsed": false,
    "pycharm": {
     "name": "#%%\n"
    }
   }
  },
  {
   "cell_type": "code",
   "execution_count": null,
   "outputs": [],
   "source": [
    "C = np.array(([4,3],[7,2]))\n",
    "print(np.linalg.inv(C))"
   ],
   "metadata": {
    "collapsed": false,
    "pycharm": {
     "name": "#%%\n"
    }
   }
  },
  {
   "cell_type": "code",
   "execution_count": 5,
   "outputs": [
    {
     "name": "stdout",
     "output_type": "stream",
     "text": [
      "[[       75.        55.        30.    870000.]\n",
      " [        0.         4.         9.    171000.]\n",
      " [        0.         0.      -600. -11100000.]]\n",
      "[[    1.    -0.    -0.  3375.]\n",
      " [    0.     1.    -0.  1125.]\n",
      " [   -0.    -0.     1. 18500.]]\n"
     ]
    },
    {
     "data": {
      "text/plain": "array([ 3375.,  1125., 18500.])"
     },
     "execution_count": 5,
     "metadata": {},
     "output_type": "execute_result"
    }
   ],
   "source": [
    "import numpy as np\n",
    "# convert to row echelon form\n",
    "A = np.array([[75, 55, 30], [0, 4, 9], [0, 280, 30]], dtype='float')\n",
    "b = np.array([870000, 171000, 870000])\n",
    "Ab = np.hstack([A, b.reshape(-1, 1)])\n",
    "n = len(b)\n",
    "\n",
    "#Converts augmented matrix to row echelon form\n",
    "for i in range(n):\n",
    "    ############ MODIFICATION START #############\n",
    "    #If leading number is zero, swap with a row below where leading number is non-zero\n",
    "    if Ab[i, i] == 0:\n",
    "        temp = Ab[i].copy()\n",
    "\n",
    "        for k in range(i + 1, n):\n",
    "            if Ab[k, i] != 0:\n",
    "                Ab[i] = Ab[k].copy()\n",
    "                Ab[k] = temp.copy()\n",
    "                break\n",
    "    ############ MODIFICATION END #############\n",
    "    a = Ab[i]\n",
    "    for j in range(i + 1, n):\n",
    "        b = Ab[j]\n",
    "        m = b[i] / a[i]\n",
    "        Ab[j] = b - m * a\n",
    "\n",
    "print(Ab)\n",
    "\n",
    "# answer output\n",
    "x = Ab[:, n]\n",
    "x\n",
    "#Converts FROM row echelon form to reduced row echelon form\n",
    "for i in range(n - 1, -1, -1):\n",
    "    Ab[i] = Ab[i] / Ab[i, i]\n",
    "    a = Ab[i]\n",
    "\n",
    "    for j in range(i - 1, -1, -1):\n",
    "        b = Ab[j]\n",
    "        m = a[i] / b[i]\n",
    "        Ab[j] = a - m * b\n",
    "\n",
    "print(Ab)\n",
    "\n",
    "# answer output\n",
    "x = Ab[:, n]\n",
    "x"
   ],
   "metadata": {
    "collapsed": false,
    "pycharm": {
     "name": "#%%\n"
    }
   }
  },
  {
   "cell_type": "code",
   "execution_count": null,
   "outputs": [],
   "source": [],
   "metadata": {
    "collapsed": false,
    "pycharm": {
     "name": "#%%\n"
    }
   }
  },
  {
   "cell_type": "code",
   "execution_count": 49,
   "outputs": [
    {
     "data": {
      "text/plain": "array([[1.        , 0.97986371],\n       [0.97986371, 1.        ]])"
     },
     "metadata": {},
     "output_type": "display_data"
    }
   ],
   "source": [
    "data = np.array(([10,40],[11,45],[15,53]))\n",
    "\n",
    "\n",
    "#Find sample correlation matrix\n",
    "\n",
    "R = np.corrcoef(data, rowvar=0)\n",
    "display(R)"
   ],
   "metadata": {
    "collapsed": false,
    "pycharm": {
     "name": "#%%\n"
    }
   }
  },
  {
   "cell_type": "code",
   "execution_count": 48,
   "outputs": [
    {
     "data": {
      "text/plain": "array([[ 0., -1.,  1.],\n       [ 3., -4.,  1.],\n       [ 3., -5.,  2.]])"
     },
     "metadata": {},
     "output_type": "display_data"
    },
    {
     "name": "stdout",
     "output_type": "stream",
     "text": [
      "[[ 3. -4.  1.  0.]\n",
      " [ 0. -1.  1.  0.]\n",
      " [ 0.  0.  0.  0.]]\n"
     ]
    },
    {
     "data": {
      "text/plain": "array([0., 0., 0.])"
     },
     "execution_count": 48,
     "metadata": {},
     "output_type": "execute_result"
    }
   ],
   "source": [
    "import numpy as np\n",
    "import pandas as pd\n",
    "A = np.array(([1,-1,1],[3,-3,1],[3,-5,3]))\n",
    "\n",
    "b = np.array(([0],[0],[0]))\n",
    "A = A-np.eye(3)\n",
    "display(A)\n",
    "Ab = np.hstack([A, b.reshape(-1, 1)])\n",
    "n = len(b)\n",
    "\n",
    "#Converts augmented matrix to row echelon form\n",
    "for i in range(n):\n",
    "    ############ MODIFICATION START #############\n",
    "    #If leading number is zero, swap with a row below where leading number is non-zero\n",
    "    if Ab[i,i] == 0:\n",
    "        temp = Ab[i].copy()\n",
    "\n",
    "        for k in range (i + 1, n):\n",
    "            if Ab[k, i] != 0:\n",
    "                Ab[i] = Ab[k].copy()\n",
    "                Ab[k] = temp.copy()\n",
    "                break\n",
    "    ############ MODIFICATION END #############\n",
    "    a = Ab[i]\n",
    "    for j in range(i + 1, n):\n",
    "        b = Ab[j]\n",
    "        m = b[i] / a[i]\n",
    "        Ab[j] = b - m * a\n",
    "\n",
    "print(Ab)\n",
    "\n",
    "# answer output\n",
    "x = Ab[:, n]\n",
    "\n",
    "x\n"
   ],
   "metadata": {
    "collapsed": false,
    "pycharm": {
     "name": "#%%\n"
    }
   }
  },
  {
   "cell_type": "code",
   "execution_count": 62,
   "outputs": [
    {
     "name": "stdout",
     "output_type": "stream",
     "text": [
      "[[8]\n",
      " [0]\n",
      " [8]]\n"
     ]
    }
   ],
   "source": [
    "vector = np.array(([1,0,1],[1,1,1],[2,1,1]))\n",
    "\n",
    "\n",
    "A = np.array(([1,-1,1],[3,-3,1],[3,-5,3]))\n",
    "B = np.array(([1,-1,1],[3,-3,1],[3,-5,3]))\n",
    "mul = np.dot(A,A)\n",
    "mul = np.dot(mul,B)\n",
    "arr = np.array(([1],[2],[3]))\n",
    "final = np.dot(mul,arr)\n",
    "print(final)"
   ],
   "metadata": {
    "collapsed": false,
    "pycharm": {
     "name": "#%%\n"
    }
   }
  },
  {
   "cell_type": "code",
   "execution_count": 69,
   "outputs": [
    {
     "name": "stdout",
     "output_type": "stream",
     "text": [
      "[[ 1.  2. -1. -3.]\n",
      " [ 0.  1.  2.  3.]\n",
      " [ 0. -2.  1.  4.]]\n",
      "[[ 1.  2. -1. -3.]\n",
      " [ 0.  1.  2.  3.]\n",
      " [ 0.  0.  5. 10.]]\n",
      "[[ 1. -0.  0.  1.]\n",
      " [-0.  1. -0. -1.]\n",
      " [ 0.  0.  1.  2.]]\n"
     ]
    },
    {
     "data": {
      "text/plain": "array([ 1., -1.,  2.])"
     },
     "execution_count": 69,
     "metadata": {},
     "output_type": "execute_result"
    }
   ],
   "source": [
    "# convert to row echelon form\n",
    "A = np.array([[1, 2, -1], [0, 1, 2], [0, -2, 1]], dtype='float')\n",
    "b = np.array([-3, 3, 4])\n",
    "Ab = np.hstack([A, b.reshape(-1, 1)])\n",
    "n = len(b)\n",
    "print(Ab)\n",
    "#Converts augmented matrix to row echelon form\n",
    "for i in range(n):\n",
    "    ############ MODIFICATION START #############\n",
    "    #If leading number is zero, swap with a row below where leading number is non-zero\n",
    "    if Ab[i,i] == 0:\n",
    "        temp = Ab[i].copy()\n",
    "\n",
    "        for k in range (i + 1, n):\n",
    "            if Ab[k, i] != 0:\n",
    "                Ab[i] = Ab[k].copy()\n",
    "                Ab[k] = temp.copy()\n",
    "                break\n",
    "    ############ MODIFICATION END #############\n",
    "    a = Ab[i]\n",
    "    for j in range(i + 1, n):\n",
    "        b = Ab[j]\n",
    "        m = b[i] / a[i]\n",
    "        Ab[j] = b - m * a\n",
    "\n",
    "print(Ab)\n",
    "\n",
    "# answer output\n",
    "x = Ab[:, n]\n",
    "x\n",
    "#Converts FROM row echelon form to reduced row echelon form\n",
    "for i in range(n - 1, -1, -1):\n",
    "    Ab[i] = Ab[i] / Ab[i, i]\n",
    "    a = Ab[i]\n",
    "\n",
    "    for j in range(i - 1, -1, -1):\n",
    "        b = Ab[j]\n",
    "        m = a[i] / b[i]\n",
    "        Ab[j] = a - m * b\n",
    "\n",
    "print(Ab)\n",
    "\n",
    "# answer output\n",
    "x = Ab[:, n]\n",
    "x"
   ],
   "metadata": {
    "collapsed": false,
    "pycharm": {
     "name": "#%%\n"
    }
   }
  },
  {
   "cell_type": "code",
   "execution_count": 77,
   "outputs": [
    {
     "name": "stdout",
     "output_type": "stream",
     "text": [
      "[[4 3]\n",
      " [7 2]]\n",
      "[[-0.15384615  0.23076923]\n",
      " [ 0.53846154 -0.30769231]]\n"
     ]
    }
   ],
   "source": [
    "C = np.array(([4,3],[7,2]))\n",
    "print(C)\n",
    "det = np.linalg.inv(C)\n",
    "print(det)"
   ],
   "metadata": {
    "collapsed": false,
    "pycharm": {
     "name": "#%%\n"
    }
   }
  },
  {
   "cell_type": "markdown",
   "source": [],
   "metadata": {
    "collapsed": false
   }
  }
 ],
 "metadata": {
  "kernelspec": {
   "display_name": "Python 3",
   "language": "python",
   "name": "python3"
  },
  "language_info": {
   "codemirror_mode": {
    "name": "ipython",
    "version": 2
   },
   "file_extension": ".py",
   "mimetype": "text/x-python",
   "name": "python",
   "nbconvert_exporter": "python",
   "pygments_lexer": "ipython2",
   "version": "2.7.6"
  }
 },
 "nbformat": 4,
 "nbformat_minor": 0
}