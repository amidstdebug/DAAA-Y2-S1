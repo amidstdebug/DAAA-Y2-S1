{
 "cells": [
  {
   "cell_type": "code",
   "execution_count": 16,
   "outputs": [
    {
     "name": "stdout",
     "output_type": "stream",
     "text": [
      "[14.5  0.  -0. ]\n",
      "\n",
      "\n",
      "[[-0.55708601  0.         -0.82728901]\n",
      " [ 0.74278135 -0.4472136  -0.53538547]\n",
      " [ 0.37139068  0.89442719 -0.17016258]]\n"
     ]
    }
   ],
   "source": [
    "import numpy as np\n",
    "np.set_printoptions(suppress=True)\n",
    "\n",
    "cov = (np.cov([[4,1], [-1, 3],[3,5]]))\n",
    "\n",
    "eigvals, eigvecs=np.linalg.eig (cov)#Get eigenvalues&eigenvectors\n",
    "print (eigvals)\n",
    "print('\\n')\n",
    "print (eigvecs)"
   ],
   "metadata": {
    "collapsed": false,
    "pycharm": {
     "name": "#%%\n"
    }
   }
  }
 ],
 "metadata": {
  "kernelspec": {
   "display_name": "Python 3",
   "language": "python",
   "name": "python3"
  },
  "language_info": {
   "codemirror_mode": {
    "name": "ipython",
    "version": 2
   },
   "file_extension": ".py",
   "mimetype": "text/x-python",
   "name": "python",
   "nbconvert_exporter": "python",
   "pygments_lexer": "ipython2",
   "version": "2.7.6"
  }
 },
 "nbformat": 4,
 "nbformat_minor": 0
}