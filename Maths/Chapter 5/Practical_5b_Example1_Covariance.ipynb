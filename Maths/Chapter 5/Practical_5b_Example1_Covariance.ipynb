{
 "cells": [
  {
   "cell_type": "markdown",
   "metadata": {
    "collapsed": true
   },
   "source": [
    "# Practical 5B"
   ]
  },
  {
   "cell_type": "markdown",
   "metadata": {},
   "source": [
    "This practical is related to Example 1(a). <br> Modify the functions used in Practical 5A to produce the table of PCA results table, scree plot, loading plot and score plot."
   ]
  },
  {
   "cell_type": "code",
   "execution_count": 3,
   "metadata": {
    "collapsed": true
   },
   "outputs": [],
   "source": [
    "import pandas as pd\n",
    "import matplotlib.pyplot as plt\n",
    "import seaborn as sns; sns.set()\n",
    "\n",
    "import numpy as np\n",
    "import os"
   ]
  },
  {
   "cell_type": "markdown",
   "metadata": {},
   "source": [
    "We will read in the data file."
   ]
  },
  {
   "cell_type": "code",
   "execution_count": 3,
   "metadata": {
    "collapsed": true
   },
   "outputs": [],
   "source": []
  },
  {
   "cell_type": "code",
   "execution_count": 4,
   "metadata": {},
   "outputs": [
    {
     "data": {
      "text/plain": "  Social Class/ No. of children  Bread  Vegetables  Fruit  Meat  Poultry  \\\n0                            B2    332         428    354  1437      526   \n1                            W2    293         559    388  1527      567   \n2                            U2    372         767    562  1948      927   \n3                            B3    406         563    341  1507      544   \n4                            W3    386         608    396  1501      558   \n\n   Milk  Wine  \n0   247   427  \n1   239   258  \n2   235   433  \n3   324   407  \n4   319   363  ",
      "text/html": "<div>\n<style scoped>\n    .dataframe tbody tr th:only-of-type {\n        vertical-align: middle;\n    }\n\n    .dataframe tbody tr th {\n        vertical-align: top;\n    }\n\n    .dataframe thead th {\n        text-align: right;\n    }\n</style>\n<table border=\"1\" class=\"dataframe\">\n  <thead>\n    <tr style=\"text-align: right;\">\n      <th></th>\n      <th>Social Class/ No. of children</th>\n      <th>Bread</th>\n      <th>Vegetables</th>\n      <th>Fruit</th>\n      <th>Meat</th>\n      <th>Poultry</th>\n      <th>Milk</th>\n      <th>Wine</th>\n    </tr>\n  </thead>\n  <tbody>\n    <tr>\n      <th>0</th>\n      <td>B2</td>\n      <td>332</td>\n      <td>428</td>\n      <td>354</td>\n      <td>1437</td>\n      <td>526</td>\n      <td>247</td>\n      <td>427</td>\n    </tr>\n    <tr>\n      <th>1</th>\n      <td>W2</td>\n      <td>293</td>\n      <td>559</td>\n      <td>388</td>\n      <td>1527</td>\n      <td>567</td>\n      <td>239</td>\n      <td>258</td>\n    </tr>\n    <tr>\n      <th>2</th>\n      <td>U2</td>\n      <td>372</td>\n      <td>767</td>\n      <td>562</td>\n      <td>1948</td>\n      <td>927</td>\n      <td>235</td>\n      <td>433</td>\n    </tr>\n    <tr>\n      <th>3</th>\n      <td>B3</td>\n      <td>406</td>\n      <td>563</td>\n      <td>341</td>\n      <td>1507</td>\n      <td>544</td>\n      <td>324</td>\n      <td>407</td>\n    </tr>\n    <tr>\n      <th>4</th>\n      <td>W3</td>\n      <td>386</td>\n      <td>608</td>\n      <td>396</td>\n      <td>1501</td>\n      <td>558</td>\n      <td>319</td>\n      <td>363</td>\n    </tr>\n  </tbody>\n</table>\n</div>"
     },
     "execution_count": 4,
     "metadata": {},
     "output_type": "execute_result"
    }
   ],
   "source": [
    "data = pd.read_csv(\"Chp5Eg1.csv\")\n",
    "data.head()"
   ]
  },
  {
   "cell_type": "code",
   "execution_count": 5,
   "metadata": {
    "scrolled": true
   },
   "outputs": [
    {
     "data": {
      "text/plain": "   Bread  Vegetables  Fruit  Meat  Poultry  Milk  Wine\n0    332         428    354  1437      526   247   427\n1    293         559    388  1527      567   239   258\n2    372         767    562  1948      927   235   433\n3    406         563    341  1507      544   324   407\n4    386         608    396  1501      558   319   363",
      "text/html": "<div>\n<style scoped>\n    .dataframe tbody tr th:only-of-type {\n        vertical-align: middle;\n    }\n\n    .dataframe tbody tr th {\n        vertical-align: top;\n    }\n\n    .dataframe thead th {\n        text-align: right;\n    }\n</style>\n<table border=\"1\" class=\"dataframe\">\n  <thead>\n    <tr style=\"text-align: right;\">\n      <th></th>\n      <th>Bread</th>\n      <th>Vegetables</th>\n      <th>Fruit</th>\n      <th>Meat</th>\n      <th>Poultry</th>\n      <th>Milk</th>\n      <th>Wine</th>\n    </tr>\n  </thead>\n  <tbody>\n    <tr>\n      <th>0</th>\n      <td>332</td>\n      <td>428</td>\n      <td>354</td>\n      <td>1437</td>\n      <td>526</td>\n      <td>247</td>\n      <td>427</td>\n    </tr>\n    <tr>\n      <th>1</th>\n      <td>293</td>\n      <td>559</td>\n      <td>388</td>\n      <td>1527</td>\n      <td>567</td>\n      <td>239</td>\n      <td>258</td>\n    </tr>\n    <tr>\n      <th>2</th>\n      <td>372</td>\n      <td>767</td>\n      <td>562</td>\n      <td>1948</td>\n      <td>927</td>\n      <td>235</td>\n      <td>433</td>\n    </tr>\n    <tr>\n      <th>3</th>\n      <td>406</td>\n      <td>563</td>\n      <td>341</td>\n      <td>1507</td>\n      <td>544</td>\n      <td>324</td>\n      <td>407</td>\n    </tr>\n    <tr>\n      <th>4</th>\n      <td>386</td>\n      <td>608</td>\n      <td>396</td>\n      <td>1501</td>\n      <td>558</td>\n      <td>319</td>\n      <td>363</td>\n    </tr>\n  </tbody>\n</table>\n</div>"
     },
     "execution_count": 5,
     "metadata": {},
     "output_type": "execute_result"
    }
   ],
   "source": [
    "data_reduced = data.drop(['Social Class/ No. of children'], axis=1)\n",
    "data_reduced.head()"
   ]
  },
  {
   "cell_type": "code",
   "execution_count": 6,
   "metadata": {
    "collapsed": true
   },
   "outputs": [],
   "source": [
    "# implementing PCA using sklearn\n",
    "\n",
    "from sklearn.decomposition import PCA\n",
    "\n",
    "pca = PCA(n_components=7).fit(data_reduced)\n",
    "#Note that pca.transform() returns scores based on centred data\n",
    "pca_samples = pca.transform(data_reduced)"
   ]
  },
  {
   "cell_type": "markdown",
   "metadata": {},
   "source": [
    "## Task 1\n",
    "The function \"pca_results\" from Practical 5A is reproduced below. Modify it so as to produce the PCA results table."
   ]
  },
  {
   "cell_type": "code",
   "execution_count": 7,
   "metadata": {
    "collapsed": true
   },
   "outputs": [],
   "source": [
    "# Computes the PCs and percentage variance explained\n",
    "# Pass original data and returns of PCA to this function.\n",
    "# This function returns a table summarising the eigenvalues, % variance explained, cumulative % variance explained and PCs\n",
    "\n",
    "def pca_results(data, pca):\n",
    "    \n",
    "    # Dimension indexing\n",
    "    dimensions = ['PC {}'.format(i) for i in range(1,len(pca.components_)+1)]\n",
    "    \n",
    "    # PCA components\n",
    "    components = pd.DataFrame(np.round(pca.components_, 4), columns = data.keys()) \n",
    "    components.index = dimensions\n",
    "\n",
    "    #PCA eigenvalues\n",
    "    ev = pca.explained_variance_.reshape(len(pca.components_), 1)\n",
    "    eigenvalues = pd.DataFrame(np.round(ev, 4), columns = ['Eigenvalue']) \n",
    "    eigenvalues.index = dimensions\n",
    "    \n",
    "    # PCA explained variance\n",
    "    ratios = pca.explained_variance_ratio_.reshape(len(pca.components_), 1) \n",
    "    variance_ratios = pd.DataFrame(np.round(ratios, 4), columns = ['Explained Variance']) \n",
    "    variance_ratios.index = dimensions\n",
    "\n",
    "    # Return a concatenated DataFrame\n",
    "    return pd.concat([eigenvalues, variance_ratios, components], axis = 1)"
   ]
  },
  {
   "cell_type": "code",
   "execution_count": 8,
   "metadata": {
    "collapsed": true
   },
   "outputs": [
    {
     "data": {
      "text/plain": "       Eigenvalue  Explained Variance   Bread  Vegetables   Fruit    Meat  \\\nPC 1  273411.7739              0.8795  0.0685      0.3273  0.3038  0.7555   \nPC 2   26158.3319              0.0841  0.5477      0.4201 -0.0886 -0.0894   \nPC 3    6724.6013              0.0216  0.4409     -0.3106 -0.3135  0.0558   \nPC 4    2130.1585              0.0069 -0.0917      0.6924  0.2342 -0.3624   \nPC 5    1963.6940              0.0063 -0.1745     -0.3209  0.6954  0.0386   \nPC 6     380.5415              0.0012  0.6781     -0.1663  0.4698 -0.1162   \nPC 7      96.4218              0.0003 -0.0479     -0.0991  0.2060 -0.5212   \n\n      Poultry    Milk    Wine  \nPC 1   0.4621  0.0899 -0.0587  \nPC 2  -0.2810  0.6397  0.1399  \nPC 3   0.3876 -0.1814  0.6516  \nPC 4   0.0919 -0.4330  0.3606  \nPC 5  -0.2490  0.2406  0.5115  \nPC 6  -0.0744 -0.3759 -0.3624  \nPC 7   0.6937  0.4039 -0.1714  ",
      "text/html": "<div>\n<style scoped>\n    .dataframe tbody tr th:only-of-type {\n        vertical-align: middle;\n    }\n\n    .dataframe tbody tr th {\n        vertical-align: top;\n    }\n\n    .dataframe thead th {\n        text-align: right;\n    }\n</style>\n<table border=\"1\" class=\"dataframe\">\n  <thead>\n    <tr style=\"text-align: right;\">\n      <th></th>\n      <th>Eigenvalue</th>\n      <th>Explained Variance</th>\n      <th>Bread</th>\n      <th>Vegetables</th>\n      <th>Fruit</th>\n      <th>Meat</th>\n      <th>Poultry</th>\n      <th>Milk</th>\n      <th>Wine</th>\n    </tr>\n  </thead>\n  <tbody>\n    <tr>\n      <th>PC 1</th>\n      <td>273411.7739</td>\n      <td>0.8795</td>\n      <td>0.0685</td>\n      <td>0.3273</td>\n      <td>0.3038</td>\n      <td>0.7555</td>\n      <td>0.4621</td>\n      <td>0.0899</td>\n      <td>-0.0587</td>\n    </tr>\n    <tr>\n      <th>PC 2</th>\n      <td>26158.3319</td>\n      <td>0.0841</td>\n      <td>0.5477</td>\n      <td>0.4201</td>\n      <td>-0.0886</td>\n      <td>-0.0894</td>\n      <td>-0.2810</td>\n      <td>0.6397</td>\n      <td>0.1399</td>\n    </tr>\n    <tr>\n      <th>PC 3</th>\n      <td>6724.6013</td>\n      <td>0.0216</td>\n      <td>0.4409</td>\n      <td>-0.3106</td>\n      <td>-0.3135</td>\n      <td>0.0558</td>\n      <td>0.3876</td>\n      <td>-0.1814</td>\n      <td>0.6516</td>\n    </tr>\n    <tr>\n      <th>PC 4</th>\n      <td>2130.1585</td>\n      <td>0.0069</td>\n      <td>-0.0917</td>\n      <td>0.6924</td>\n      <td>0.2342</td>\n      <td>-0.3624</td>\n      <td>0.0919</td>\n      <td>-0.4330</td>\n      <td>0.3606</td>\n    </tr>\n    <tr>\n      <th>PC 5</th>\n      <td>1963.6940</td>\n      <td>0.0063</td>\n      <td>-0.1745</td>\n      <td>-0.3209</td>\n      <td>0.6954</td>\n      <td>0.0386</td>\n      <td>-0.2490</td>\n      <td>0.2406</td>\n      <td>0.5115</td>\n    </tr>\n    <tr>\n      <th>PC 6</th>\n      <td>380.5415</td>\n      <td>0.0012</td>\n      <td>0.6781</td>\n      <td>-0.1663</td>\n      <td>0.4698</td>\n      <td>-0.1162</td>\n      <td>-0.0744</td>\n      <td>-0.3759</td>\n      <td>-0.3624</td>\n    </tr>\n    <tr>\n      <th>PC 7</th>\n      <td>96.4218</td>\n      <td>0.0003</td>\n      <td>-0.0479</td>\n      <td>-0.0991</td>\n      <td>0.2060</td>\n      <td>-0.5212</td>\n      <td>0.6937</td>\n      <td>0.4039</td>\n      <td>-0.1714</td>\n    </tr>\n  </tbody>\n</table>\n</div>"
     },
     "execution_count": 8,
     "metadata": {},
     "output_type": "execute_result"
    }
   ],
   "source": [
    "pca_results = pca_results(data_reduced, pca)\n",
    "pca_results"
   ]
  },
  {
   "cell_type": "code",
   "execution_count": 8,
   "metadata": {
    "collapsed": true
   },
   "outputs": [],
   "source": []
  },
  {
   "cell_type": "markdown",
   "metadata": {},
   "source": [
    "To help us decide the number of PCs to keep, one of the guidelines is to refer to the scree plot. We can plot the scree plot using the code below."
   ]
  },
  {
   "cell_type": "code",
   "execution_count": 9,
   "metadata": {},
   "outputs": [
    {
     "data": {
      "text/plain": "<Figure size 432x288 with 0 Axes>"
     },
     "metadata": {},
     "output_type": "display_data"
    },
    {
     "data": {
      "text/plain": "<Figure size 432x288 with 1 Axes>",
      "image/png": "[encoded data removed]"
     },
     "metadata": {},
     "output_type": "display_data"
    }
   ],
   "source": [
    "#Scree plot\n",
    "import matplotlib.ticker as ticker\n",
    "plt.clf()\n",
    "fig1, ax1 = plt.subplots()\n",
    "ax1.plot(np.arange(1, len(pca.explained_variance_)+1), pca.explained_variance_)\n",
    "ax1.xaxis.set_major_locator(ticker.MultipleLocator(1))\n",
    "ax1.set(xlabel = 'Component number', ylabel = 'Eigenvalue', title = 'Screeplot')\n",
    "plt.show()"
   ]
  },
  {
   "cell_type": "markdown",
   "metadata": {},
   "source": [
    "## Task 2\n",
    "The function \"loadingplot\" used in Practical 5A is reproduced below. Modify it to produce the loading plot for the first two PCs."
   ]
  },
  {
   "cell_type": "code",
   "execution_count": 10,
   "metadata": {
    "collapsed": true
   },
   "outputs": [],
   "source": [
    "#Extract only the two PCs\n",
    "pca2 = PCA(n_components=2).fit(data_reduced)\n",
    "scores2 = pca2.transform(data_reduced)"
   ]
  },
  {
   "cell_type": "code",
   "execution_count": 11,
   "metadata": {
    "collapsed": true
   },
   "outputs": [],
   "source": [
    "# This function plots the loading plot.\n",
    "# Pass original data dataframe and returns of PCA to this function. Optional width, height and margin\n",
    "# This function returns the axes of the loading plot\n",
    "\n",
    "def loadingplot(data, pca, width=5, height=5, margin=0.5):\n",
    "\n",
    "    fig, ax = plt.subplots(figsize = (width,height))\n",
    "\n",
    "    #Set limits for figure\n",
    "    x_min = min(pca.components_[0,:].min(),0)-margin\n",
    "    x_max = max(pca.components_[0,:].max(),0)+margin\n",
    "    y_min = min(pca.components_[1,:].min(),0)-margin\n",
    "    y_max = max(pca.components_[1,:].max(),0)+margin\n",
    "\n",
    "    ax.set_xlim(x_min, x_max)\n",
    "    ax.set_ylim(y_min, y_max)\n",
    "\n",
    "    #Scaling factor for text position\n",
    "    text_pos = 0.2\n",
    "\n",
    "    for i, v in enumerate(pca.components_.T):\n",
    "        ax.arrow(0, 0, v[0], v[1], head_width=0.1, head_length=0.1, linewidth=2, color='red')\n",
    "        ax.text(v[0], v[1]+text_pos, data.columns[i], color='black', ha='center', va='center', fontsize=12)\n",
    "\n",
    "    plt.plot([x_min, x_max], [0, 0], color='k', linestyle='--', linewidth=1)\n",
    "    plt.plot([0, 0], [y_min, y_max], color='k', linestyle='--', linewidth=1)\n",
    "    ax.set_xlabel(\"PC1\", fontsize=14)\n",
    "    ax.set_ylabel(\"PC2\", fontsize=14)\n",
    "    ax.set_title(\"Loading plot\", fontsize = 14)\n",
    "    \n",
    "    return ax"
   ]
  },
  {
   "cell_type": "code",
   "execution_count": 16,
   "metadata": {
    "collapsed": true
   },
   "outputs": [
    {
     "data": {
      "text/plain": "<Figure size 504x504 with 1 Axes>",
      "image/png": "[encoded data removed]"
     },
     "metadata": {},
     "output_type": "display_data"
    }
   ],
   "source": [
    "plt.clf\n",
    "ax2 = loadingplot(data_reduced, pca2, width=7, height=7, margin=0.2)\n",
    "plt.show()"
   ]
  },
  {
   "cell_type": "code",
   "execution_count": 12,
   "metadata": {
    "collapsed": true
   },
   "outputs": [],
   "source": []
  },
  {
   "cell_type": "markdown",
   "metadata": {
    "collapsed": true
   },
   "source": [
    "## Task 3\n",
    "The function \"scoreplot\" from practical 5A is reproduced below, but it is renamed as \"scoreplot_label\". <br>Modify it to produce the scoreplot with label for each data point that can identify the 12 families."
   ]
  },
  {
   "cell_type": "code",
   "execution_count": 13,
   "metadata": {
    "scrolled": false
   },
   "outputs": [
    {
     "data": {
      "text/plain": "           PC1         PC2\n0  1596.296039  271.671473\n1  1742.970714  253.995521\n2  2343.122612  252.335396\n3  1710.906607  405.201740\n4  1745.041843  395.525562",
      "text/html": "<div>\n<style scoped>\n    .dataframe tbody tr th:only-of-type {\n        vertical-align: middle;\n    }\n\n    .dataframe tbody tr th {\n        vertical-align: top;\n    }\n\n    .dataframe thead th {\n        text-align: right;\n    }\n</style>\n<table border=\"1\" class=\"dataframe\">\n  <thead>\n    <tr style=\"text-align: right;\">\n      <th></th>\n      <th>PC1</th>\n      <th>PC2</th>\n    </tr>\n  </thead>\n  <tbody>\n    <tr>\n      <th>0</th>\n      <td>1596.296039</td>\n      <td>271.671473</td>\n    </tr>\n    <tr>\n      <th>1</th>\n      <td>1742.970714</td>\n      <td>253.995521</td>\n    </tr>\n    <tr>\n      <th>2</th>\n      <td>2343.122612</td>\n      <td>252.335396</td>\n    </tr>\n    <tr>\n      <th>3</th>\n      <td>1710.906607</td>\n      <td>405.201740</td>\n    </tr>\n    <tr>\n      <th>4</th>\n      <td>1745.041843</td>\n      <td>395.525562</td>\n    </tr>\n  </tbody>\n</table>\n</div>"
     },
     "execution_count": 13,
     "metadata": {},
     "output_type": "execute_result"
    }
   ],
   "source": [
    "#Obtain scores from original data that are not centred\n",
    "\n",
    "scores2_notcentred = np.dot(data_reduced, pca2.components_.T)\n",
    "scores2_notcentred = pd.DataFrame(scores2_notcentred, columns = ['PC1', 'PC2'])\n",
    "scores2_notcentred.head()"
   ]
  },
  {
   "cell_type": "code",
   "execution_count": 14,
   "metadata": {
    "collapsed": true
   },
   "outputs": [],
   "source": [
    "# Plots score plot with data labels\n",
    "# Pass original data, un-centred scores and returns of PCA to this function. Optional width, height and margin.\n",
    "# This function returns the axes of the score plot\n",
    "\n",
    "def scoreplot_label(data, scores, pca, width=5, height=5, margin=0.5):\n",
    "    plt.figure(figsize=(width, height))\n",
    "    ax = sns.scatterplot(x=\"PC1\", y=\"PC2\", data = scores)\n",
    "    \n",
    "    #Set limits for figure\n",
    "    x_min = min(scores['PC1'].min(),0)-margin\n",
    "    x_max = max(scores['PC1'].max(),0)+margin\n",
    "    y_min = min(scores['PC2'].min(),0)-margin\n",
    "    y_max = max(scores['PC2'].max(),0)+margin\n",
    "  \n",
    "    ax.set_xlim(x_min, x_max)\n",
    "    ax.set_ylim(y_min, y_max)\n",
    "    ax.set_title(\"Score plot\", fontsize=14)\n",
    "    plt.plot([x_min, x_max], [0, 0], color='k', linestyle='--', linewidth=1)\n",
    "    plt.plot([0, 0], [y_min, y_max], color='k', linestyle='--', linewidth=1)\n",
    "    return ax"
   ]
  },
  {
   "cell_type": "code",
   "execution_count": 14,
   "metadata": {
    "collapsed": true
   },
   "outputs": [],
   "source": [
    "#scale data\n",
    "\n",
    "from sklearn.preprocessing import scale\n",
    "\n",
    "\n"
   ]
  }
 ],
 "metadata": {
  "kernelspec": {
   "name": "pycharm-4b8c1c27",
   "language": "python",
   "display_name": "PyCharm (DAAA-Y2-S1)"
  },
  "language_info": {
   "codemirror_mode": {
    "name": "ipython",
    "version": 3
   },
   "file_extension": ".py",
   "mimetype": "text/x-python",
   "name": "python",
   "nbconvert_exporter": "python",
   "pygments_lexer": "ipython3",
   "version": "3.6.9"
  }
 },
 "nbformat": 4,
 "nbformat_minor": 2
}