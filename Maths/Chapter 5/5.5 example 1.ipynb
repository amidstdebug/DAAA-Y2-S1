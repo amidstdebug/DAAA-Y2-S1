#%%

import pandas as pd
import matplotlib.pyplot as plt
import seaborn as sns
from IPython.core.display import display

sns.set()
import numpy as np
import os


#%%


data = pd.read_csv("Chp5Eg1.csv")
display(data.head())
