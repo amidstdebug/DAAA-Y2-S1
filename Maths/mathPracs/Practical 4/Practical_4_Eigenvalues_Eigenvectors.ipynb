{
 "cells": [
  {
   "cell_type": "markdown",
   "metadata": {},
   "source": [
    "# Practical 4: Eigenvalues and Eigenvectors"
   ]
  },
  {
   "cell_type": "markdown",
   "metadata": {},
   "source": [
    "### Eigenvalues & Eigenvectors of a Square Matrix"
   ]
  },
  {
   "cell_type": "code",
   "execution_count": 2,
   "metadata": {},
   "outputs": [
    {
     "name": "stdout",
     "output_type": "stream",
     "text": [
      "[[ 2  0  1]\n",
      " [-1  4 -1]\n",
      " [-1  2  0]]\n",
      "Eigenvalues are:  [3. 2. 1.]\n",
      "Eigenvectors are: \n",
      " [[ 4.08248290e-01  8.94427191e-01 -7.07106781e-01]\n",
      " [ 8.16496581e-01  4.47213595e-01 -8.72620868e-17]\n",
      " [ 4.08248290e-01 -4.12775854e-16  7.07106781e-01]]\n"
     ]
    }
   ],
   "source": [
    "import numpy as np\n",
    "# Define square matrix A\n",
    "A = np.array([[2,0,1],[-1,4,-1],[-1,2,0]])\n",
    "print(A)\n",
    "eigvals, eigvecs = np.linalg.eig(A)\n",
    "print(\"Eigenvalues are: \", eigvals)\n",
    "print(\"Eigenvectors are: \\n\", eigvecs)"
   ]
  },
  {
   "cell_type": "markdown",
   "metadata": {},
   "source": [
    "So the eigenvalues of A are: 3, 2, and 1\n",
    "Notice that the corresponding eigenvectors are given in columns and are \n",
    "normalized to unit length."
   ]
  },
  {
   "cell_type": "code",
   "execution_count": 3,
   "metadata": {},
   "outputs": [
    {
     "name": "stdout",
     "output_type": "stream",
     "text": [
      "First eigenvalue is:  3.0\n",
      "Corresponding eigenvector is:  [0.40824829 0.81649658 0.40824829]\n",
      "Its magnitude is:  1.0\n"
     ]
    }
   ],
   "source": [
    "# The first eigenvalue is 3\n",
    "# Its corresponding eigenvector is in column 1 of eigvecs\n",
    "print(\"First eigenvalue is: \", eigvals[0])# subject to rounding errors\n",
    "print(\"Corresponding eigenvector is: \", eigvecs[:,0])\n",
    "print(\"Its magnitude is: \", np.linalg.norm(eigvecs[:,0])) # subject to rounding error\n"
   ]
  },
  {
   "cell_type": "markdown",
   "metadata": {},
   "source": [
    "To check whether the first vector and first value are indeed the eigenvector and eigenvalue\n",
    "of A, we do the following:"
   ]
  },
  {
   "cell_type": "code",
   "execution_count": 4,
   "metadata": {},
   "outputs": [
    {
     "name": "stdout",
     "output_type": "stream",
     "text": [
      "Av is:  [1.22474487 2.44948974 1.22474487]\n",
      "lambda*v is:  [1.22474487 2.44948974 1.22474487]\n"
     ]
    }
   ],
   "source": [
    "# Find Av\n",
    "B = np.dot(A, eigvecs[:,0])\n",
    "print(\"Av is: \", B)\n",
    "\n",
    "# Find lambda*v\n",
    "C = eigvals[0]* eigvecs[:,0]\n",
    "print(\"lambda*v is: \", C)\n"
   ]
  },
  {
   "cell_type": "markdown",
   "metadata": {},
   "source": [
    "Notice that the two answers are the same, confirming that the first vector is an eigenvector\n",
    "corresponding to the first eigenvalue. "
   ]
  },
  {
   "cell_type": "markdown",
   "metadata": {},
   "source": [
    "### Task 1"
   ]
  },
  {
   "cell_type": "markdown",
   "metadata": {},
   "source": [
    "Some properties of eigenvalues include:<br> \n",
    "•\tThe sum of eigenvalues of a matrix equals its trace.<br>\n",
    "•\tThe product of eigenvalues equals its determinant.<br><br>\n",
    "Verify the properties above using the matrix $\\mathbf{A}=\\begin{bmatrix}2 & 1 & 2 \\\\ 2 & 2 & -2 \\\\ 3 & 1 & 1 \\end{bmatrix}$"
   ]
  },
  {
   "cell_type": "code",
   "execution_count": 5,
   "metadata": {
    "collapsed": true
   },
   "outputs": [
    {
     "name": "stdout",
     "output_type": "stream",
     "text": [
      "sum of Eigenvalues are:  5.0000000000000036\n",
      "Trace of A is:  5\n",
      "Products of eigenvalues:  -7.9999999999999964\n",
      "det(A):  -8.000000000000002\n"
     ]
    }
   ],
   "source": [
    "A = np.array([[2,1,2],[2,2,-2],[3,1,1]])\n",
    "print(\"sum of Eigenvalues are: \", sum(np.linalg.eig(A)[0]) )\n",
    "print(\"Trace of A is: \",np.trace(A))\n",
    "\n",
    "print(\"Products of eigenvalues: \",np.prod(np.linalg.eig(A)[0]))\n",
    "print(\"det(A): \", np.linalg.det(A) )"
   ]
  },
  {
   "cell_type": "markdown",
   "metadata": {},
   "source": [
    "### Task 2"
   ]
  },
  {
   "cell_type": "markdown",
   "metadata": {},
   "source": [
    "**Symmetric Matrix**: The eigenvalues of a symmetrical matrix are always real and the eigenvectors are always orthogonal. Verify this in Python for the matrix A below.<br>\n",
    "$$\\mathbf{A}=\\begin{bmatrix}1 & -1 & 0 \\\\ -1 & 2 & -1 \\\\ 0 & -1 & 1 \\end{bmatrix}$$"
   ]
  },
  {
   "cell_type": "code",
   "execution_count": 6,
   "metadata": {
    "collapsed": true
   },
   "outputs": [
    {
     "name": "stdout",
     "output_type": "stream",
     "text": [
      "[[ 1 -1  0]\n",
      " [-1  2 -1]\n",
      " [ 0 -1  1]]\n",
      "Eigenvalues are:  [ 3.00000000e+00  1.00000000e+00 -5.13860489e-17]\n",
      "Eigenvectors are: \n",
      " [[-4.08248290e-01 -7.07106781e-01  5.77350269e-01]\n",
      " [ 8.16496581e-01  2.48915666e-16  5.77350269e-01]\n",
      " [-4.08248290e-01  7.07106781e-01  5.77350269e-01]]\n"
     ]
    }
   ],
   "source": [
    "A = np.array([[1,-1,0],[-1,2,-1],[0,-1,1]])\n",
    "\n",
    "print(A)\n",
    "eigvals, eigvecs = np.linalg.eig(A)\n",
    "print(\"Eigenvalues are: \", eigvals)\n",
    "print(\"Eigenvectors are: \\n\", eigvecs)\n",
    "\n"
   ]
  },
  {
   "cell_type": "code",
   "execution_count": 7,
   "metadata": {},
   "outputs": [],
   "source": [
    "v1 = np.array([[-4.08248290e-01],[8.16496581e-01],[-4.08248290e-01]])\n",
    "v2 = np.array([[-7.07106781e-01],[2.48915666e-16],[7.07106781e-01]])\n",
    "v3 = np.array([[5.77350269e-01],[5.77350269e-01],[5.77350269e-01]])"
   ]
  },
  {
   "cell_type": "code",
   "execution_count": 8,
   "metadata": {},
   "outputs": [
    {
     "name": "stdout",
     "output_type": "stream",
     "text": [
      "[[5.77350223e-10]]\n"
     ]
    }
   ],
   "source": [
    "print(np.dot(v1.T,v3))"
   ]
  },
  {
   "cell_type": "code",
   "execution_count": null,
   "metadata": {},
   "outputs": [],
   "source": []
  }
 ],
 "metadata": {
  "interpreter": {
   "hash": "7f5a69f5e25dc16f5449b9ad0e7f1d2e708beab69079235475448892e692617b"
  },
  "kernelspec": {
   "display_name": "Python 3.9.7 ('base')",
   "language": "python",
   "name": "python3"
  },
  "language_info": {
   "codemirror_mode": {
    "name": "ipython",
    "version": 3
   },
   "file_extension": ".py",
   "mimetype": "text/x-python",
   "name": "python",
   "nbconvert_exporter": "python",
   "pygments_lexer": "ipython3",
   "version": "3.9.7"
  }
 },
 "nbformat": 4,
 "nbformat_minor": 2
}
