{
 "cells": [
  {
   "cell_type": "markdown",
   "metadata": {},
   "source": [
    "# Practical 5D\n",
    "This practical is related to Example 2.\n",
    "<br>Obtain the PCA output table, screen plot and loading plot."
   ]
  },
  {
   "cell_type": "code",
   "execution_count": 1,
   "metadata": {
    "collapsed": true
   },
   "outputs": [],
   "source": [
    "import pandas as pd\n",
    "import matplotlib.pyplot as plt\n",
    "import seaborn as sns; sns.set()\n",
    "import numpy as np"
   ]
  },
  {
   "cell_type": "markdown",
   "metadata": {},
   "source": [
    "Read in the correlation matrix"
   ]
  },
  {
   "cell_type": "code",
   "execution_count": 2,
   "metadata": {
    "collapsed": true,
    "scrolled": true
   },
   "outputs": [
    {
     "data": {
      "text/plain": "      0.5s    1s    3s    6s   15s\n0.5s  1.00  0.71  0.58  0.56  0.65\n1s    0.71  1.00  0.71  0.60  0.69\n3s    0.58  0.71  1.00  0.75  0.71\n6s    0.56  0.60  0.75  1.00  0.74\n15s   0.65  0.69  0.71  0.74  1.00",
      "text/html": "<div>\n<style scoped>\n    .dataframe tbody tr th:only-of-type {\n        vertical-align: middle;\n    }\n\n    .dataframe tbody tr th {\n        vertical-align: top;\n    }\n\n    .dataframe thead th {\n        text-align: right;\n    }\n</style>\n<table border=\"1\" class=\"dataframe\">\n  <thead>\n    <tr style=\"text-align: right;\">\n      <th></th>\n      <th>0.5s</th>\n      <th>1s</th>\n      <th>3s</th>\n      <th>6s</th>\n      <th>15s</th>\n    </tr>\n  </thead>\n  <tbody>\n    <tr>\n      <th>0.5s</th>\n      <td>1.00</td>\n      <td>0.71</td>\n      <td>0.58</td>\n      <td>0.56</td>\n      <td>0.65</td>\n    </tr>\n    <tr>\n      <th>1s</th>\n      <td>0.71</td>\n      <td>1.00</td>\n      <td>0.71</td>\n      <td>0.60</td>\n      <td>0.69</td>\n    </tr>\n    <tr>\n      <th>3s</th>\n      <td>0.58</td>\n      <td>0.71</td>\n      <td>1.00</td>\n      <td>0.75</td>\n      <td>0.71</td>\n    </tr>\n    <tr>\n      <th>6s</th>\n      <td>0.56</td>\n      <td>0.60</td>\n      <td>0.75</td>\n      <td>1.00</td>\n      <td>0.74</td>\n    </tr>\n    <tr>\n      <th>15s</th>\n      <td>0.65</td>\n      <td>0.69</td>\n      <td>0.71</td>\n      <td>0.74</td>\n      <td>1.00</td>\n    </tr>\n  </tbody>\n</table>\n</div>"
     },
     "execution_count": 2,
     "metadata": {},
     "output_type": "execute_result"
    }
   ],
   "source": [
    "correlation = pd.read_csv(\"Chp5Eg2.csv\", names=['0.5s', '1s', '3s', '6s', '15s']) \n",
    "correlation.index = ['0.5s', '1s', '3s', '6s', '15s']\n",
    "correlation"
   ]
  },
  {
   "cell_type": "markdown",
   "metadata": {},
   "source": [
    "Obtain the eigenvalues and eigenvectors and put them into dataframes."
   ]
  },
  {
   "cell_type": "code",
   "execution_count": 3,
   "metadata": {
    "collapsed": true
   },
   "outputs": [
    {
     "data": {
      "text/plain": "array([3.68308861, 0.53125005, 0.33001244, 0.25877216, 0.19687674])"
     },
     "execution_count": 3,
     "metadata": {},
     "output_type": "execute_result"
    }
   ],
   "source": [
    "w, V = np.linalg.eig(correlation)\n",
    "w\n",
    "#always check if eigenvalues are in descending order"
   ]
  },
  {
   "cell_type": "code",
   "execution_count": 4,
   "metadata": {
    "collapsed": true
   },
   "outputs": [
    {
     "data": {
      "text/plain": "     Eigenvalues\nPC1       3.6831\nPC2       0.5313\nPC3       0.3300\nPC4       0.2588\nPC5       0.1969",
      "text/html": "<div>\n<style scoped>\n    .dataframe tbody tr th:only-of-type {\n        vertical-align: middle;\n    }\n\n    .dataframe tbody tr th {\n        vertical-align: top;\n    }\n\n    .dataframe thead th {\n        text-align: right;\n    }\n</style>\n<table border=\"1\" class=\"dataframe\">\n  <thead>\n    <tr style=\"text-align: right;\">\n      <th></th>\n      <th>Eigenvalues</th>\n    </tr>\n  </thead>\n  <tbody>\n    <tr>\n      <th>PC1</th>\n      <td>3.6831</td>\n    </tr>\n    <tr>\n      <th>PC2</th>\n      <td>0.5313</td>\n    </tr>\n    <tr>\n      <th>PC3</th>\n      <td>0.3300</td>\n    </tr>\n    <tr>\n      <th>PC4</th>\n      <td>0.2588</td>\n    </tr>\n    <tr>\n      <th>PC5</th>\n      <td>0.1969</td>\n    </tr>\n  </tbody>\n</table>\n</div>"
     },
     "execution_count": 4,
     "metadata": {},
     "output_type": "execute_result"
    }
   ],
   "source": [
    "#Put the eigenvalues into a dataframe\n",
    "w_df = pd.DataFrame(np.round(w,4), columns=['Eigenvalues'])\n",
    "w_df.index = ['PC{}'.format(i) for i in range(1,len(w_df)+1)]\n",
    "w_df"
   ]
  },
  {
   "cell_type": "code",
   "execution_count": 5,
   "metadata": {
    "collapsed": true,
    "scrolled": true
   },
   "outputs": [
    {
     "data": {
      "text/plain": "array([[ 0.42239572,  0.66606983,  0.40295603, -0.4245783 ,  0.18786308],\n       [ 0.45056706,  0.37835111, -0.56571562,  0.28169892, -0.50443167],\n       [ 0.45672582, -0.32552216, -0.51511831, -0.28833683,  0.58047553],\n       [ 0.44386102, -0.53594802,  0.31004287, -0.3469872 , -0.54701043],\n       [ 0.46147599, -0.14140884,  0.39511874,  0.73269417,  0.27218356]])"
     },
     "execution_count": 5,
     "metadata": {},
     "output_type": "execute_result"
    }
   ],
   "source": [
    "V"
   ]
  },
  {
   "cell_type": "code",
   "execution_count": 6,
   "metadata": {
    "collapsed": true,
    "scrolled": true
   },
   "outputs": [
    {
     "data": {
      "text/plain": "     0.5s      1s      3s      6s     15s\n0  0.4224  0.4506  0.4567  0.4439  0.4615\n1  0.6661  0.3784 -0.3255 -0.5359 -0.1414\n2  0.4030 -0.5657 -0.5151  0.3100  0.3951\n3 -0.4246  0.2817 -0.2883 -0.3470  0.7327\n4  0.1879 -0.5044  0.5805 -0.5470  0.2722",
      "text/html": "<div>\n<style scoped>\n    .dataframe tbody tr th:only-of-type {\n        vertical-align: middle;\n    }\n\n    .dataframe tbody tr th {\n        vertical-align: top;\n    }\n\n    .dataframe thead th {\n        text-align: right;\n    }\n</style>\n<table border=\"1\" class=\"dataframe\">\n  <thead>\n    <tr style=\"text-align: right;\">\n      <th></th>\n      <th>0.5s</th>\n      <th>1s</th>\n      <th>3s</th>\n      <th>6s</th>\n      <th>15s</th>\n    </tr>\n  </thead>\n  <tbody>\n    <tr>\n      <th>0</th>\n      <td>0.4224</td>\n      <td>0.4506</td>\n      <td>0.4567</td>\n      <td>0.4439</td>\n      <td>0.4615</td>\n    </tr>\n    <tr>\n      <th>1</th>\n      <td>0.6661</td>\n      <td>0.3784</td>\n      <td>-0.3255</td>\n      <td>-0.5359</td>\n      <td>-0.1414</td>\n    </tr>\n    <tr>\n      <th>2</th>\n      <td>0.4030</td>\n      <td>-0.5657</td>\n      <td>-0.5151</td>\n      <td>0.3100</td>\n      <td>0.3951</td>\n    </tr>\n    <tr>\n      <th>3</th>\n      <td>-0.4246</td>\n      <td>0.2817</td>\n      <td>-0.2883</td>\n      <td>-0.3470</td>\n      <td>0.7327</td>\n    </tr>\n    <tr>\n      <th>4</th>\n      <td>0.1879</td>\n      <td>-0.5044</td>\n      <td>0.5805</td>\n      <td>-0.5470</td>\n      <td>0.2722</td>\n    </tr>\n  </tbody>\n</table>\n</div>"
     },
     "execution_count": 6,
     "metadata": {},
     "output_type": "execute_result"
    }
   ],
   "source": [
    "V_df = pd.DataFrame(np.round(V,4))\n",
    "V_df.index = ['0.5s', '1s', '3s', '6s', '15s']\n",
    "V_df = V_df.T\n",
    "V_df"
   ]
  },
  {
   "cell_type": "markdown",
   "source": [],
   "metadata": {
    "collapsed": false
   }
  },
  {
   "cell_type": "markdown",
   "metadata": {},
   "source": [
    "## Task 1\n",
    "Using the eigenvalues and eigenvectors dataframes, write a function that can produce the PCA output table."
   ]
  },
  {
   "cell_type": "code",
   "execution_count": 7,
   "metadata": {
    "collapsed": true
   },
   "outputs": [],
   "source": [
    "# Computes the % variance explained and cumulative % variance explained.\n",
    "# Pass the eigenvalues and eigenvectors dataframes to this function.\n",
    "# This function returns a table summarising the eigenvalues, % variance explained, cumulative % variance explained and PCs\n",
    "\n",
    "def pca_results_matrix(eValues, eVectors):\n",
    "    eigvals = eValues\n",
    "    eigvecs = eVectors\n",
    "    # Dimension indexing\n",
    "    dimensions = ['PC{}'.format(i) for i in range(1,len(eValues)+1)]\n",
    "    # Compute the % explained variance for each PC\n",
    "    exp_var = []\n",
    "    for i in range(len(eValues)):\n",
    "        exp_var.append(np.round(eValues['Eigenvalues'].iloc[i]/eValues['Eigenvalues'].sum(),4))\n",
    "    exp_variance = pd.DataFrame(exp_var,columns=['Explained Variance'])\n",
    "    exp_variance.index= dimensions   \n",
    "\n",
    "    # Compute the cumulative % variance explained\n",
    "    cum_variance = pd.DataFrame()\n",
    "    cum_variance['Cumulative Explained Variance'] =  exp_variance.cumsum(axis=0)\n",
    "    cum_variance.index = dimensions\n",
    "    # Return a concatenated DataFrame\n",
    "    return pd.concat([eigvals,exp_variance,cum_variance,eigvecs],axis=1)"
   ]
  },
  {
   "cell_type": "code",
   "execution_count": 8,
   "metadata": {
    "collapsed": true
   },
   "outputs": [
    {
     "data": {
      "text/plain": "     Eigenvalues  Explained Variance  Cumulative Explained Variance    0.5s  \\\nPC1       3.6831              0.7366                         0.7366     NaN   \nPC2       0.5313              0.1063                         0.8429     NaN   \nPC3       0.3300              0.0660                         0.9089     NaN   \nPC4       0.2588              0.0518                         0.9607     NaN   \nPC5       0.1969              0.0394                         1.0001     NaN   \n0            NaN                 NaN                            NaN  0.4224   \n1            NaN                 NaN                            NaN  0.6661   \n2            NaN                 NaN                            NaN  0.4030   \n3            NaN                 NaN                            NaN -0.4246   \n4            NaN                 NaN                            NaN  0.1879   \n\n         1s      3s      6s     15s  \nPC1     NaN     NaN     NaN     NaN  \nPC2     NaN     NaN     NaN     NaN  \nPC3     NaN     NaN     NaN     NaN  \nPC4     NaN     NaN     NaN     NaN  \nPC5     NaN     NaN     NaN     NaN  \n0    0.4506  0.4567  0.4439  0.4615  \n1    0.3784 -0.3255 -0.5359 -0.1414  \n2   -0.5657 -0.5151  0.3100  0.3951  \n3    0.2817 -0.2883 -0.3470  0.7327  \n4   -0.5044  0.5805 -0.5470  0.2722  ",
      "text/html": "<div>\n<style scoped>\n    .dataframe tbody tr th:only-of-type {\n        vertical-align: middle;\n    }\n\n    .dataframe tbody tr th {\n        vertical-align: top;\n    }\n\n    .dataframe thead th {\n        text-align: right;\n    }\n</style>\n<table border=\"1\" class=\"dataframe\">\n  <thead>\n    <tr style=\"text-align: right;\">\n      <th></th>\n      <th>Eigenvalues</th>\n      <th>Explained Variance</th>\n      <th>Cumulative Explained Variance</th>\n      <th>0.5s</th>\n      <th>1s</th>\n      <th>3s</th>\n      <th>6s</th>\n      <th>15s</th>\n    </tr>\n  </thead>\n  <tbody>\n    <tr>\n      <th>PC1</th>\n      <td>3.6831</td>\n      <td>0.7366</td>\n      <td>0.7366</td>\n      <td>NaN</td>\n      <td>NaN</td>\n      <td>NaN</td>\n      <td>NaN</td>\n      <td>NaN</td>\n    </tr>\n    <tr>\n      <th>PC2</th>\n      <td>0.5313</td>\n      <td>0.1063</td>\n      <td>0.8429</td>\n      <td>NaN</td>\n      <td>NaN</td>\n      <td>NaN</td>\n      <td>NaN</td>\n      <td>NaN</td>\n    </tr>\n    <tr>\n      <th>PC3</th>\n      <td>0.3300</td>\n      <td>0.0660</td>\n      <td>0.9089</td>\n      <td>NaN</td>\n      <td>NaN</td>\n      <td>NaN</td>\n      <td>NaN</td>\n      <td>NaN</td>\n    </tr>\n    <tr>\n      <th>PC4</th>\n      <td>0.2588</td>\n      <td>0.0518</td>\n      <td>0.9607</td>\n      <td>NaN</td>\n      <td>NaN</td>\n      <td>NaN</td>\n      <td>NaN</td>\n      <td>NaN</td>\n    </tr>\n    <tr>\n      <th>PC5</th>\n      <td>0.1969</td>\n      <td>0.0394</td>\n      <td>1.0001</td>\n      <td>NaN</td>\n      <td>NaN</td>\n      <td>NaN</td>\n      <td>NaN</td>\n      <td>NaN</td>\n    </tr>\n    <tr>\n      <th>0</th>\n      <td>NaN</td>\n      <td>NaN</td>\n      <td>NaN</td>\n      <td>0.4224</td>\n      <td>0.4506</td>\n      <td>0.4567</td>\n      <td>0.4439</td>\n      <td>0.4615</td>\n    </tr>\n    <tr>\n      <th>1</th>\n      <td>NaN</td>\n      <td>NaN</td>\n      <td>NaN</td>\n      <td>0.6661</td>\n      <td>0.3784</td>\n      <td>-0.3255</td>\n      <td>-0.5359</td>\n      <td>-0.1414</td>\n    </tr>\n    <tr>\n      <th>2</th>\n      <td>NaN</td>\n      <td>NaN</td>\n      <td>NaN</td>\n      <td>0.4030</td>\n      <td>-0.5657</td>\n      <td>-0.5151</td>\n      <td>0.3100</td>\n      <td>0.3951</td>\n    </tr>\n    <tr>\n      <th>3</th>\n      <td>NaN</td>\n      <td>NaN</td>\n      <td>NaN</td>\n      <td>-0.4246</td>\n      <td>0.2817</td>\n      <td>-0.2883</td>\n      <td>-0.3470</td>\n      <td>0.7327</td>\n    </tr>\n    <tr>\n      <th>4</th>\n      <td>NaN</td>\n      <td>NaN</td>\n      <td>NaN</td>\n      <td>0.1879</td>\n      <td>-0.5044</td>\n      <td>0.5805</td>\n      <td>-0.5470</td>\n      <td>0.2722</td>\n    </tr>\n  </tbody>\n</table>\n</div>"
     },
     "execution_count": 8,
     "metadata": {},
     "output_type": "execute_result"
    }
   ],
   "source": [
    "results = pca_results_matrix(w_df, V_df)\n",
    "results"
   ]
  },
  {
   "cell_type": "code",
   "execution_count": 8,
   "metadata": {},
   "outputs": [],
   "source": []
  },
  {
   "cell_type": "markdown",
   "metadata": {},
   "source": [
    "## Task 2\n",
    "Write the code to obtain the scree plot using the eigenvalues dataframe."
   ]
  },
  {
   "cell_type": "code",
   "execution_count": 9,
   "metadata": {
    "collapsed": true
   },
   "outputs": [
    {
     "data": {
      "text/plain": "<Figure size 432x288 with 0 Axes>"
     },
     "metadata": {},
     "output_type": "display_data"
    },
    {
     "data": {
      "text/plain": "<Figure size 432x288 with 1 Axes>",
      "image/png": "[encoded data removed]"
     },
     "metadata": {},
     "output_type": "display_data"
    }
   ],
   "source": [
    "#Scree plot\n",
    "import matplotlib.ticker as ticker\n",
    "plt.clf()\n",
    "fig1, ax1 = plt.subplots()\n",
    "ax1.plot([0.7366,0.1063,0.0660,0.0518,0.0394])\n",
    "ax1.xaxis.set_major_locator(ticker.MultipleLocator(1))\n",
    "ax1.set(xlabel = 'Component number', ylabel = 'Eigenvalue', title = 'Screeplot')\n",
    "plt.show()"
   ]
  },
  {
   "cell_type": "markdown",
   "metadata": {},
   "source": [
    "## Task 3\n",
    "Using the eigenvectors dataframe, write a function that can produce the loading plot."
   ]
  },
  {
   "cell_type": "code",
   "execution_count": 10,
   "metadata": {
    "collapsed": true
   },
   "outputs": [],
   "source": [
    "# This function plots the loading plot from the eigenvectors/PCs dataframe.\n",
    "# Pass the eigenvectors/PCs dataframe to this function. Optional width, height and margin.\n",
    "# This function returns the axes of the loading plot\n",
    "\n",
    "def loadingplot_eVectors(eVectors, width=5, height=5, margin=0.5):\n",
    "\n",
    "    fig, ax = plt.subplots(figsize = (width, height))\n",
    "\n",
    "    # #Set limits for figure\n",
    "    # x_min = min(eVectors[0,:].min(),0)-margin\n",
    "    # x_max = max(eVectors[0,:].max(),0)+margin\n",
    "    # y_min = min(eVectors[1,:].min(),0)-margin\n",
    "    # y_max = max(eVectors[1,:].max(),0)+margin\n",
    "\n",
    "    # ax.set_xlim(x_min, x_max)\n",
    "    # ax.set_ylim(y_min, y_max)\n",
    "\n",
    "    #Scaling factor for text position\n",
    "    text_pos = 0.2\n",
    "    \n",
    "    # Draw arrows and label them\n",
    "    for i, v in enumerate(eVectors.T):\n",
    "        ax.arrow(0, 0, v[0], v[1], head_width=0.05, head_length=0.05, linewidth=2, color='red')\n",
    "        ax.text(v[0], v[1]+text_pos, eVectors.T.columns[i], color='black', ha='center', va='center', fontsize=12)\n",
    "\n",
    "        \n",
    "    plt.plot(color='k', linestyle='--', linewidth=1)\n",
    "    plt.plot(color='k', linestyle='--', linewidth=1)\n",
    "    ax.set_xlabel(\"PC1\", fontsize=14)\n",
    "    ax.set_ylabel(\"PC2\", fontsize=14)\n",
    "    ax.set_title(\"Loading plot\", fontsize = 14)\n",
    "\n",
    "    return ax"
   ]
  },
  {
   "cell_type": "code",
   "execution_count": 11,
   "metadata": {},
   "outputs": [
    {
     "data": {
      "text/plain": "     0.5s      1s      3s      6s     15s\n0  0.4224  0.4506  0.4567  0.4439  0.4615\n1  0.6661  0.3784 -0.3255 -0.5359 -0.1414\n2  0.4030 -0.5657 -0.5151  0.3100  0.3951\n3 -0.4246  0.2817 -0.2883 -0.3470  0.7327\n4  0.1879 -0.5044  0.5805 -0.5470  0.2722",
      "text/html": "<div>\n<style scoped>\n    .dataframe tbody tr th:only-of-type {\n        vertical-align: middle;\n    }\n\n    .dataframe tbody tr th {\n        vertical-align: top;\n    }\n\n    .dataframe thead th {\n        text-align: right;\n    }\n</style>\n<table border=\"1\" class=\"dataframe\">\n  <thead>\n    <tr style=\"text-align: right;\">\n      <th></th>\n      <th>0.5s</th>\n      <th>1s</th>\n      <th>3s</th>\n      <th>6s</th>\n      <th>15s</th>\n    </tr>\n  </thead>\n  <tbody>\n    <tr>\n      <th>0</th>\n      <td>0.4224</td>\n      <td>0.4506</td>\n      <td>0.4567</td>\n      <td>0.4439</td>\n      <td>0.4615</td>\n    </tr>\n    <tr>\n      <th>1</th>\n      <td>0.6661</td>\n      <td>0.3784</td>\n      <td>-0.3255</td>\n      <td>-0.5359</td>\n      <td>-0.1414</td>\n    </tr>\n    <tr>\n      <th>2</th>\n      <td>0.4030</td>\n      <td>-0.5657</td>\n      <td>-0.5151</td>\n      <td>0.3100</td>\n      <td>0.3951</td>\n    </tr>\n    <tr>\n      <th>3</th>\n      <td>-0.4246</td>\n      <td>0.2817</td>\n      <td>-0.2883</td>\n      <td>-0.3470</td>\n      <td>0.7327</td>\n    </tr>\n    <tr>\n      <th>4</th>\n      <td>0.1879</td>\n      <td>-0.5044</td>\n      <td>0.5805</td>\n      <td>-0.5470</td>\n      <td>0.2722</td>\n    </tr>\n  </tbody>\n</table>\n</div>"
     },
     "execution_count": 11,
     "metadata": {},
     "output_type": "execute_result"
    }
   ],
   "source": [
    "V_df"
   ]
  },
  {
   "cell_type": "code",
   "execution_count": 12,
   "metadata": {
    "collapsed": true
   },
   "outputs": [
    {
     "ename": "TypeError",
     "evalue": "'int' object is not subscriptable",
     "output_type": "error",
     "traceback": [
      "\u001B[1;31m---------------------------------------------------------------------------\u001B[0m",
      "\u001B[1;31mTypeError\u001B[0m                                 Traceback (most recent call last)",
      "\u001B[1;32m~\\AppData\\Local\\Temp/ipykernel_5952/2282074166.py\u001B[0m in \u001B[0;36m<module>\u001B[1;34m\u001B[0m\n\u001B[0;32m      1\u001B[0m \u001B[0mplt\u001B[0m\u001B[1;33m.\u001B[0m\u001B[0mclf\u001B[0m\u001B[1;33m(\u001B[0m\u001B[1;33m)\u001B[0m\u001B[1;33m\u001B[0m\u001B[1;33m\u001B[0m\u001B[0m\n\u001B[1;32m----> 2\u001B[1;33m \u001B[0max2\u001B[0m \u001B[1;33m=\u001B[0m \u001B[0mloadingplot_eVectors\u001B[0m\u001B[1;33m(\u001B[0m\u001B[0mV_df\u001B[0m\u001B[1;33m,\u001B[0m \u001B[0mwidth\u001B[0m \u001B[1;33m=\u001B[0m \u001B[1;36m5\u001B[0m\u001B[1;33m,\u001B[0m \u001B[0mheight\u001B[0m \u001B[1;33m=\u001B[0m \u001B[1;36m5\u001B[0m\u001B[1;33m,\u001B[0m \u001B[0mmargin\u001B[0m \u001B[1;33m=\u001B[0m \u001B[1;36m0.2\u001B[0m\u001B[1;33m)\u001B[0m\u001B[1;33m\u001B[0m\u001B[1;33m\u001B[0m\u001B[0m\n\u001B[0m\u001B[0;32m      3\u001B[0m \u001B[0mplt\u001B[0m\u001B[1;33m.\u001B[0m\u001B[0mshow\u001B[0m\u001B[1;33m(\u001B[0m\u001B[1;33m)\u001B[0m\u001B[1;33m\u001B[0m\u001B[1;33m\u001B[0m\u001B[0m\n",
      "\u001B[1;32m~\\AppData\\Local\\Temp/ipykernel_5952/2734226864.py\u001B[0m in \u001B[0;36mloadingplot_eVectors\u001B[1;34m(eVectors, width, height, margin)\u001B[0m\n\u001B[0;32m     21\u001B[0m     \u001B[1;31m# Draw arrows and label them\u001B[0m\u001B[1;33m\u001B[0m\u001B[1;33m\u001B[0m\u001B[1;33m\u001B[0m\u001B[0m\n\u001B[0;32m     22\u001B[0m     \u001B[1;32mfor\u001B[0m \u001B[0mi\u001B[0m\u001B[1;33m,\u001B[0m \u001B[0mv\u001B[0m \u001B[1;32min\u001B[0m \u001B[0menumerate\u001B[0m\u001B[1;33m(\u001B[0m\u001B[0meVectors\u001B[0m\u001B[1;33m.\u001B[0m\u001B[0mT\u001B[0m\u001B[1;33m)\u001B[0m\u001B[1;33m:\u001B[0m\u001B[1;33m\u001B[0m\u001B[1;33m\u001B[0m\u001B[0m\n\u001B[1;32m---> 23\u001B[1;33m         \u001B[0max\u001B[0m\u001B[1;33m.\u001B[0m\u001B[0marrow\u001B[0m\u001B[1;33m(\u001B[0m\u001B[1;36m0\u001B[0m\u001B[1;33m,\u001B[0m \u001B[1;36m0\u001B[0m\u001B[1;33m,\u001B[0m \u001B[0mv\u001B[0m\u001B[1;33m[\u001B[0m\u001B[1;36m0\u001B[0m\u001B[1;33m]\u001B[0m\u001B[1;33m,\u001B[0m \u001B[0mv\u001B[0m\u001B[1;33m[\u001B[0m\u001B[1;36m1\u001B[0m\u001B[1;33m]\u001B[0m\u001B[1;33m,\u001B[0m \u001B[0mhead_width\u001B[0m\u001B[1;33m=\u001B[0m\u001B[1;36m0.05\u001B[0m\u001B[1;33m,\u001B[0m \u001B[0mhead_length\u001B[0m\u001B[1;33m=\u001B[0m\u001B[1;36m0.05\u001B[0m\u001B[1;33m,\u001B[0m \u001B[0mlinewidth\u001B[0m\u001B[1;33m=\u001B[0m\u001B[1;36m2\u001B[0m\u001B[1;33m,\u001B[0m \u001B[0mcolor\u001B[0m\u001B[1;33m=\u001B[0m\u001B[1;34m'red'\u001B[0m\u001B[1;33m)\u001B[0m\u001B[1;33m\u001B[0m\u001B[1;33m\u001B[0m\u001B[0m\n\u001B[0m\u001B[0;32m     24\u001B[0m         \u001B[0max\u001B[0m\u001B[1;33m.\u001B[0m\u001B[0mtext\u001B[0m\u001B[1;33m(\u001B[0m\u001B[0mv\u001B[0m\u001B[1;33m[\u001B[0m\u001B[1;36m0\u001B[0m\u001B[1;33m]\u001B[0m\u001B[1;33m,\u001B[0m \u001B[0mv\u001B[0m\u001B[1;33m[\u001B[0m\u001B[1;36m1\u001B[0m\u001B[1;33m]\u001B[0m\u001B[1;33m+\u001B[0m\u001B[0mtext_pos\u001B[0m\u001B[1;33m,\u001B[0m \u001B[0meVectors\u001B[0m\u001B[1;33m.\u001B[0m\u001B[0mT\u001B[0m\u001B[1;33m.\u001B[0m\u001B[0mcolumns\u001B[0m\u001B[1;33m[\u001B[0m\u001B[0mi\u001B[0m\u001B[1;33m]\u001B[0m\u001B[1;33m,\u001B[0m \u001B[0mcolor\u001B[0m\u001B[1;33m=\u001B[0m\u001B[1;34m'black'\u001B[0m\u001B[1;33m,\u001B[0m \u001B[0mha\u001B[0m\u001B[1;33m=\u001B[0m\u001B[1;34m'center'\u001B[0m\u001B[1;33m,\u001B[0m \u001B[0mva\u001B[0m\u001B[1;33m=\u001B[0m\u001B[1;34m'center'\u001B[0m\u001B[1;33m,\u001B[0m \u001B[0mfontsize\u001B[0m\u001B[1;33m=\u001B[0m\u001B[1;36m12\u001B[0m\u001B[1;33m)\u001B[0m\u001B[1;33m\u001B[0m\u001B[1;33m\u001B[0m\u001B[0m\n\u001B[0;32m     25\u001B[0m \u001B[1;33m\u001B[0m\u001B[0m\n",
      "\u001B[1;31mTypeError\u001B[0m: 'int' object is not subscriptable"
     ]
    },
    {
     "data": {
      "text/plain": "<Figure size 432x288 with 0 Axes>"
     },
     "metadata": {},
     "output_type": "display_data"
    },
    {
     "data": {
      "text/plain": "<Figure size 360x360 with 1 Axes>",
      "image/png": "[encoded data removed]"
     },
     "metadata": {},
     "output_type": "display_data"
    }
   ],
   "source": [
    "plt.clf()\n",
    "ax2 = loadingplot_eVectors(V_df, width = 5, height = 5, margin = 0.2)\n",
    "plt.show()"
   ]
  },
  {
   "cell_type": "code",
   "execution_count": null,
   "metadata": {
    "collapsed": true
   },
   "outputs": [],
   "source": []
  }
 ],
 "metadata": {
  "interpreter": {
   "hash": "7f5a69f5e25dc16f5449b9ad0e7f1d2e708beab69079235475448892e692617b"
  },
  "kernelspec": {
   "display_name": "Python 3.9.7 ('base')",
   "language": "python",
   "name": "python3"
  },
  "language_info": {
   "codemirror_mode": {
    "name": "ipython",
    "version": 3
   },
   "file_extension": ".py",
   "mimetype": "text/x-python",
   "name": "python",
   "nbconvert_exporter": "python",
   "pygments_lexer": "ipython3",
   "version": "3.9.7"
  }
 },
 "nbformat": 4,
 "nbformat_minor": 2
}