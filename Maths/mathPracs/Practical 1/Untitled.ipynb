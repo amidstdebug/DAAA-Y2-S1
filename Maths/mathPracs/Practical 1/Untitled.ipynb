{
 "cells": [
  {
   "cell_type": "code",
   "execution_count": 1,
   "id": "c56c33d0",
   "metadata": {},
   "outputs": [],
   "source": [
    "import numpy as np"
   ]
  },
  {
   "cell_type": "code",
   "execution_count": 3,
   "id": "70048c99",
   "metadata": {},
   "outputs": [
    {
     "name": "stdout",
     "output_type": "stream",
     "text": [
      "[[ 1 -2]\n",
      " [ 3  2]]\n"
     ]
    }
   ],
   "source": [
    "A=np.array([[1,-2],[3,2]])\n",
    "print(A)"
   ]
  },
  {
   "cell_type": "code",
   "execution_count": 4,
   "id": "13da0907",
   "metadata": {},
   "outputs": [
    {
     "name": "stdout",
     "output_type": "stream",
     "text": [
      "[[3 7 1]\n",
      " [2 5 0]\n",
      " [4 0 8]]\n"
     ]
    }
   ],
   "source": [
    "B=np.array([[3,7,1],[2,5,0],[4,0,8]])\n",
    "print(B)"
   ]
  },
  {
   "cell_type": "code",
   "execution_count": 5,
   "id": "438ed2fd",
   "metadata": {},
   "outputs": [
    {
     "name": "stdout",
     "output_type": "stream",
     "text": [
      "[[ 0.25   0.25 ]\n",
      " [-0.375  0.125]]\n"
     ]
    }
   ],
   "source": [
    "Ain= np.linalg.inv(A)\n",
    "print(Ain)"
   ]
  },
  {
   "cell_type": "code",
   "execution_count": 7,
   "id": "29f5440f",
   "metadata": {},
   "outputs": [
    {
     "name": "stdout",
     "output_type": "stream",
     "text": [
      "[[-3.33333333  4.66666667  0.41666667]\n",
      " [ 1.33333333 -1.66666667 -0.16666667]\n",
      " [ 1.66666667 -2.33333333 -0.08333333]]\n"
     ]
    }
   ],
   "source": [
    "Bin = np.linalg.inv(B)\n",
    "print(Bin)"
   ]
  },
  {
   "cell_type": "code",
   "execution_count": null,
   "id": "4febf982",
   "metadata": {},
   "outputs": [],
   "source": []
  }
 ],
 "metadata": {
  "kernelspec": {
   "display_name": "Python 3 (ipykernel)",
   "language": "python",
   "name": "python3"
  },
  "language_info": {
   "codemirror_mode": {
    "name": "ipython",
    "version": 3
   },
   "file_extension": ".py",
   "mimetype": "text/x-python",
   "name": "python",
   "nbconvert_exporter": "python",
   "pygments_lexer": "ipython3",
   "version": "3.9.7"
  }
 },
 "nbformat": 4,
 "nbformat_minor": 5
}
