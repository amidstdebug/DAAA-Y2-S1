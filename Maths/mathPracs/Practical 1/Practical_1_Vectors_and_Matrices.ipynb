{
 "cells": [
  {
   "cell_type": "markdown",
   "metadata": {},
   "source": [
    "# Practical 1: Vectors & Matrices\n"
   ]
  },
  {
   "cell_type": "markdown",
   "metadata": {},
   "source": [
    "Many machine learning algorithms make use of matrices to store and process data. \n",
    "For example, a deep learning algorithm makes use of matrices to store inputs such as \n",
    "images, tweets, or text to solve problems. An artificial neural network makes use of \n",
    "matrices to store information such as weights during training. A familiarity with \n",
    "matrices and vectors is hence important.\n",
    "\n",
    "In this practical we will learn some of the fundamentals of matrices and vectors."
   ]
  },
  {
   "cell_type": "markdown",
   "metadata": {},
   "source": [
    "A **vector** can be represented as a list in Python.\n",
    "For example:"
   ]
  },
  {
   "cell_type": "code",
   "execution_count": null,
   "metadata": {
    "collapsed": true
   },
   "outputs": [],
   "source": [
    "v = [ 1, 4, 2]\n",
    "print(v)"
   ]
  },
  {
   "cell_type": "markdown",
   "metadata": {},
   "source": [
    "A **matrix** is a 2D array which stores numbers. \n",
    "Alternatively, a matrix can also be thought of as \n",
    "a list of vectors.\n",
    "\n",
    "An example:"
   ]
  },
  {
   "cell_type": "code",
   "execution_count": 1,
   "metadata": {
    "collapsed": true
   },
   "outputs": [
    {
     "name": "stdout",
     "output_type": "stream",
     "text": [
      "[[1, 4, 2], [0, 6, 3], [3, 5, 6]]\n"
     ]
    }
   ],
   "source": [
    "A = [[1,4,2],[0,6,3],[3,5,6]]\n",
    "print(A)"
   ]
  },
  {
   "cell_type": "markdown",
   "metadata": {},
   "source": [
    "An alternative way to work with vectors and matrices is\n",
    "to use the **NumPy** module in Python."
   ]
  },
  {
   "cell_type": "code",
   "execution_count": 2,
   "metadata": {
    "collapsed": true
   },
   "outputs": [
    {
     "name": "stdout",
     "output_type": "stream",
     "text": [
      "[[1]\n",
      " [4]\n",
      " [2]]\n",
      "[[1 4 2]\n",
      " [0 6 3]\n",
      " [3 5 6]]\n"
     ]
    }
   ],
   "source": [
    "import numpy as np\n",
    "v = np.array([[1],\n",
    "               [4],\n",
    "               [2]])\n",
    "print(v)\n",
    "A = np.array([[1,4, 2], [0, 6, 3],[3, 5, 6]])\n",
    "print(A)"
   ]
  },
  {
   "cell_type": "markdown",
   "metadata": {},
   "source": [
    "We can check the order of **A** and **v** as follows:"
   ]
  },
  {
   "cell_type": "code",
   "execution_count": 3,
   "metadata": {
    "collapsed": true
   },
   "outputs": [
    {
     "name": "stdout",
     "output_type": "stream",
     "text": [
      "A if of dimension:  (3, 3)\n",
      "v is of dimension:  (3, 1)\n"
     ]
    }
   ],
   "source": [
    "print(\"A if of dimension: \", A.shape)\n",
    "print(\"v is of dimension: \", v.shape)"
   ]
  },
  {
   "cell_type": "markdown",
   "metadata": {},
   "source": [
    "There are a lot of matrix operations which we can make use\n",
    "of in **NumPy**. Some examples are given below."
   ]
  },
  {
   "cell_type": "code",
   "execution_count": 5,
   "metadata": {
    "collapsed": true
   },
   "outputs": [
    {
     "name": "stdout",
     "output_type": "stream",
     "text": [
      "[[5 8]\n",
      " [6 9]]\n",
      "[[ 3  2]\n",
      " [ 4 -1]]\n",
      "[[ 8 10]\n",
      " [10  8]]\n"
     ]
    }
   ],
   "source": [
    "# Matrix Addition\n",
    "A = np.array([[5,8],[6,9]])\n",
    "print(A)\n",
    "B = np.array([[3,2],[4,-1]])\n",
    "print(B)\n",
    "C = A+B\n",
    "print(C)"
   ]
  },
  {
   "cell_type": "code",
   "execution_count": 6,
   "metadata": {
    "collapsed": true
   },
   "outputs": [
    {
     "name": "stdout",
     "output_type": "stream",
     "text": [
      "[[ 2  6]\n",
      " [ 2 10]]\n"
     ]
    }
   ],
   "source": [
    "# Matrix Subtraction\n",
    "D = A - B\n",
    "print(D)"
   ]
  },
  {
   "cell_type": "code",
   "execution_count": 7,
   "metadata": {
    "collapsed": true
   },
   "outputs": [
    {
     "name": "stdout",
     "output_type": "stream",
     "text": [
      "[[5 8]\n",
      " [6 9]]\n",
      "[[10 16]\n",
      " [12 18]]\n"
     ]
    }
   ],
   "source": [
    "# Matrix-Scalar Multiplication\n",
    "A = np.array([[5,8],[6,9]])\n",
    "print(A)\n",
    "b = 2\n",
    "E = A*2\n",
    "\n",
    "print(E)"
   ]
  },
  {
   "cell_type": "code",
   "execution_count": 8,
   "metadata": {
    "collapsed": true
   },
   "outputs": [
    {
     "name": "stdout",
     "output_type": "stream",
     "text": [
      "[[5 8]\n",
      " [6 9]]\n",
      "[[1]\n",
      " [4]]\n",
      "[[37]\n",
      " [42]]\n"
     ]
    }
   ],
   "source": [
    "# Matrix-Vector Multiplication\n",
    "A = np.array([[5,8],[6,9]])\n",
    "print(A)\n",
    "v = np.array([[1],[4]])\n",
    "print(v)\n",
    "w = np.dot(A,v)\n",
    "print(w)"
   ]
  },
  {
   "cell_type": "code",
   "execution_count": 9,
   "metadata": {
    "collapsed": true
   },
   "outputs": [
    {
     "name": "stdout",
     "output_type": "stream",
     "text": [
      "[[5 8]\n",
      " [6 9]]\n",
      "[[ 3  2]\n",
      " [ 4 -1]]\n",
      "[[47  2]\n",
      " [54  3]]\n"
     ]
    }
   ],
   "source": [
    "# Matrix-Matrix Multiplication\n",
    "A = np.array([[5,8],[6,9]])\n",
    "print(A)\n",
    "B = np.array([[3,2],[4,-1]])\n",
    "print(B)\n",
    "C = np.dot(A,B)\n",
    "print(C)"
   ]
  },
  {
   "cell_type": "code",
   "execution_count": null,
   "metadata": {
    "collapsed": true,
    "scrolled": true
   },
   "outputs": [],
   "source": [
    "# Taking transpose\n",
    "print(A)\n",
    "B = A.T\n",
    "print(B)"
   ]
  },
  {
   "cell_type": "code",
   "execution_count": null,
   "metadata": {
    "collapsed": true
   },
   "outputs": [],
   "source": [
    "# Finding trace\n",
    "print(A)\n",
    "traceA = np.trace(A)\n",
    "print(traceA)"
   ]
  },
  {
   "cell_type": "code",
   "execution_count": null,
   "metadata": {
    "collapsed": true
   },
   "outputs": [],
   "source": [
    "# Finding Matrix Determinant\n",
    "A = np.array([[5,8],[6,9]])\n",
    "print(A)\n",
    "detA = np.linalg.det(A)\n",
    "print(detA)"
   ]
  },
  {
   "cell_type": "code",
   "execution_count": null,
   "metadata": {
    "collapsed": true
   },
   "outputs": [],
   "source": [
    "# Matrix Inverse\n",
    "print(A)\n",
    "B = np.linalg.inv(A)\n",
    "print(B)"
   ]
  },
  {
   "cell_type": "markdown",
   "metadata": {},
   "source": [
    "An **identity matrix** of order 3 can be created as follows:"
   ]
  },
  {
   "cell_type": "code",
   "execution_count": null,
   "metadata": {
    "collapsed": true
   },
   "outputs": [],
   "source": [
    "I3 = np.eye(3)\n",
    "print(I3)"
   ]
  },
  {
   "cell_type": "markdown",
   "metadata": {},
   "source": [
    "To create a 2x3 matrix of random numbers drawn from a normal distribution with mean 0 and variance 1, we use:"
   ]
  },
  {
   "cell_type": "code",
   "execution_count": 10,
   "metadata": {},
   "outputs": [
    {
     "name": "stdout",
     "output_type": "stream",
     "text": [
      "[[ 0.21711581 -0.2378506   0.22618996]\n",
      " [-0.92223301  1.27091888 -0.26891581]]\n"
     ]
    }
   ],
   "source": [
    "weights = np.random.randn(2,3)\n",
    "print(weights)"
   ]
  },
  {
   "cell_type": "markdown",
   "metadata": {},
   "source": [
    "A 3x3 **diagonal matrix** with (1, 5, 1) along its principal diagonal can be constructed as follows:"
   ]
  },
  {
   "cell_type": "code",
   "execution_count": 11,
   "metadata": {},
   "outputs": [
    {
     "name": "stdout",
     "output_type": "stream",
     "text": [
      "[[1 0 0]\n",
      " [0 5 0]\n",
      " [0 0 1]]\n"
     ]
    }
   ],
   "source": [
    "A = np.diag((1, 5, 1))\n",
    "print(A)"
   ]
  },
  {
   "cell_type": "markdown",
   "metadata": {},
   "source": [
    "To create a 1x3 matrix of **ones**, we can do as follows:"
   ]
  },
  {
   "cell_type": "code",
   "execution_count": 3,
   "metadata": {
    "collapsed": true
   },
   "outputs": [
    {
     "name": "stdout",
     "output_type": "stream",
     "text": [
      "[[1. 1. 1.]]\n"
     ]
    }
   ],
   "source": [
    "print(np.ones((1,3)))"
   ]
  },
  {
   "cell_type": "code",
   "execution_count": 2,
   "metadata": {},
   "outputs": [],
   "source": [
    "import numpy as np"
   ]
  },
  {
   "cell_type": "markdown",
   "metadata": {},
   "source": [
    "### Task 1\n",
    "Enter the matrix $\\mathbf{A}=\\begin{bmatrix}1 & 2 & 4 & 5 \\\\ 0 & 1 & 5 & -2 \\\\ 2 & -4 & 3 & 9 \\end{bmatrix}$ in Python.<br>\n",
    "Display the following: <br>\n",
    "(a)  the size of the matrix $\\mathbf{A}$ <br>\n",
    "(b)  $a_{23}$, $a_{32}$ and $a_{34}$ <br>\n",
    "(c)  row 1 and column 4 of $\\mathbf{A}$"
   ]
  },
  {
   "cell_type": "code",
   "execution_count": 8,
   "metadata": {},
   "outputs": [
    {
     "name": "stdout",
     "output_type": "stream",
     "text": [
      "(3, 4)\n"
     ]
    }
   ],
   "source": [
    "A = np.array([[1,2,4,5], [0,1,5,-2],[2, -4, 3 , 9]])\n",
    "print(A.shape)"
   ]
  },
  {
   "cell_type": "code",
   "execution_count": 19,
   "metadata": {},
   "outputs": [
    {
     "name": "stdout",
     "output_type": "stream",
     "text": [
      "a23: 5\n",
      "a32: -4\n",
      "a34: 9\n"
     ]
    }
   ],
   "source": [
    "#a23\n",
    "print(\"a23:\",A[1][2])\n",
    "#a32\n",
    "print(\"a32:\",A[2][1])\n",
    "#a34\n",
    "print(\"a34:\",A[2][3])"
   ]
  },
  {
   "cell_type": "code",
   "execution_count": 4,
   "metadata": {},
   "outputs": [
    {
     "name": "stdout",
     "output_type": "stream",
     "text": [
      "[1 2 4 5]\n",
      "[ 5 -2  9]\n"
     ]
    }
   ],
   "source": [
    "#row 1\n",
    "print(A[0])\n",
    "#column 4\n",
    "print(A[:,3])"
   ]
  },
  {
   "cell_type": "markdown",
   "metadata": {},
   "source": [
    "### Task 2\n",
    "Enter the following matrices in Python. <br>\n",
    "$\\mathbf{A}=\\begin{bmatrix}7 & -3 \\\\ 2 & 1 \\\\ 9 & -6 \\\\ -3 & 2 \\end{bmatrix} , \n",
    "\\mathbf{B}=\\begin{bmatrix}2 \\\\ 5 \\end{bmatrix} , \n",
    "\\mathbf{C}=\\begin{bmatrix}5 & 1 & -8 & 4 \\\\ 2 & 7 & -3 & 5\\end{bmatrix}$ <br>\n",
    "Compute each of the following expression if possible. <br>\n",
    "(a) $\\mathbf{AC}$ <br>\n",
    "(b) $\\mathbf{AB}$ <br>\n",
    "(c) $\\mathbf{A} + \\mathbf{C}^T$ <br>\n",
    "(d) $\\mathbf{BA}$ <br>\n",
    "(e) $\\mathbf{AA}^T + \\mathbf{C}^T\\mathbf{C}$ <br>\n",
    "(f) $\\mathbf{A} + 2\\mathbf{C}^T$"
   ]
  },
  {
   "cell_type": "code",
   "execution_count": 11,
   "metadata": {},
   "outputs": [],
   "source": [
    "A = np.array([[7,-3],\n",
    "             [2, 1],\n",
    "             [9,-6],\n",
    "             [-3, 2]])\n",
    "B = np.array([[2],\n",
    "            [5]])\n",
    "C = np.array([[5, 1, -8, 4],\n",
    "            [2, 7 ,-3, 5]])"
   ]
  },
  {
   "cell_type": "code",
   "execution_count": 15,
   "metadata": {},
   "outputs": [
    {
     "name": "stdout",
     "output_type": "stream",
     "text": [
      "AC= \n",
      "[[ 29 -14 -47  13]\n",
      " [ 12   9 -19  13]\n",
      " [ 33 -33 -54   6]\n",
      " [-11  11  18  -2]]\n"
     ]
    }
   ],
   "source": [
    "#a \n",
    "print(\"AC= \")\n",
    "print(np.dot(A, C))"
   ]
  },
  {
   "cell_type": "code",
   "execution_count": 16,
   "metadata": {},
   "outputs": [
    {
     "name": "stdout",
     "output_type": "stream",
     "text": [
      "AB= \n",
      "[[ -1]\n",
      " [  9]\n",
      " [-12]\n",
      " [  4]]\n"
     ]
    }
   ],
   "source": [
    "#b\n",
    "print(\"AB= \")\n",
    "print(np.dot(A,B))"
   ]
  },
  {
   "cell_type": "code",
   "execution_count": 26,
   "metadata": {},
   "outputs": [
    {
     "name": "stdout",
     "output_type": "stream",
     "text": [
      "A+𝐂𝑇= \n",
      "[[12 -1]\n",
      " [ 3  8]\n",
      " [ 1 -9]\n",
      " [ 1  7]]\n"
     ]
    }
   ],
   "source": [
    "#c\n",
    "print(\"A+𝐂𝑇= \")\n",
    "print(A+C.T)"
   ]
  },
  {
   "cell_type": "code",
   "execution_count": 27,
   "metadata": {},
   "outputs": [
    {
     "name": "stdout",
     "output_type": "stream",
     "text": [
      "BA = \n"
     ]
    },
    {
     "ename": "ValueError",
     "evalue": "shapes (2,1) and (4,2) not aligned: 1 (dim 1) != 4 (dim 0)",
     "output_type": "error",
     "traceback": [
      "\u001b[1;31m---------------------------------------------------------------------------\u001b[0m",
      "\u001b[1;31mValueError\u001b[0m                                Traceback (most recent call last)",
      "\u001b[1;32m~\\AppData\\Local\\Temp/ipykernel_5224/1822760991.py\u001b[0m in \u001b[0;36m<module>\u001b[1;34m\u001b[0m\n\u001b[0;32m      1\u001b[0m \u001b[1;31m#d\u001b[0m\u001b[1;33m\u001b[0m\u001b[1;33m\u001b[0m\u001b[0m\n\u001b[0;32m      2\u001b[0m \u001b[0mprint\u001b[0m\u001b[1;33m(\u001b[0m\u001b[1;34m\"BA = \"\u001b[0m\u001b[1;33m)\u001b[0m\u001b[1;33m\u001b[0m\u001b[1;33m\u001b[0m\u001b[0m\n\u001b[1;32m----> 3\u001b[1;33m \u001b[0mprint\u001b[0m\u001b[1;33m(\u001b[0m\u001b[0mnp\u001b[0m\u001b[1;33m.\u001b[0m\u001b[0mdot\u001b[0m\u001b[1;33m(\u001b[0m\u001b[0mB\u001b[0m\u001b[1;33m,\u001b[0m\u001b[0mA\u001b[0m\u001b[1;33m)\u001b[0m\u001b[1;33m)\u001b[0m\u001b[1;33m\u001b[0m\u001b[1;33m\u001b[0m\u001b[0m\n\u001b[0m",
      "\u001b[1;32m<__array_function__ internals>\u001b[0m in \u001b[0;36mdot\u001b[1;34m(*args, **kwargs)\u001b[0m\n",
      "\u001b[1;31mValueError\u001b[0m: shapes (2,1) and (4,2) not aligned: 1 (dim 1) != 4 (dim 0)"
     ]
    }
   ],
   "source": [
    "#d\n",
    "print(\"BA = \")\n",
    "print(np.dot(B,A))"
   ]
  },
  {
   "cell_type": "code",
   "execution_count": 28,
   "metadata": {},
   "outputs": [
    {
     "name": "stdout",
     "output_type": "stream",
     "text": [
      "𝐀𝐀𝑇+𝐂𝑇𝐂 = \n",
      "[[ 87  30  35   3]\n",
      " [ 30  55 -17  35]\n",
      " [ 35 -17 190 -86]\n",
      " [  3  35 -86  54]]\n"
     ]
    }
   ],
   "source": [
    "#e\n",
    "print(\"𝐀𝐀𝑇+𝐂𝑇𝐂 = \")\n",
    "print(np.dot(A,A.T)+np.dot(C.T, C))"
   ]
  },
  {
   "cell_type": "code",
   "execution_count": 29,
   "metadata": {},
   "outputs": [
    {
     "name": "stdout",
     "output_type": "stream",
     "text": [
      "𝐀+2𝐂𝑇=\n",
      "[[ 17   1]\n",
      " [  4  15]\n",
      " [ -7 -12]\n",
      " [  5  12]]\n"
     ]
    }
   ],
   "source": [
    "#f\n",
    "print(\"𝐀+2𝐂𝑇=\")\n",
    "print(A+(C.T*2))"
   ]
  },
  {
   "cell_type": "markdown",
   "metadata": {},
   "source": [
    "### Task 3\n",
    "Determine if each of the following matrices is singular.<br>\n",
    "(a) $\\mathbf{A}=\\begin{bmatrix}1 & 2 & 3 \\\\ 4 & 5 & 6 \\\\ 7 & 8 & 9 \\end{bmatrix}$ <br><br>\n",
    "(b) $\\mathbf{A}=\\begin{bmatrix}0 & 1 & 3 & 4 \\\\ -2 & 1 & 2 & 1 \\\\ 2 & 0 & 1 & 0 \\\\ 0 & 8 & 3 & 1 \\end{bmatrix}$ <br>"
   ]
  },
  {
   "cell_type": "code",
   "execution_count": 36,
   "metadata": {},
   "outputs": [
    {
     "name": "stdout",
     "output_type": "stream",
     "text": [
      "det(A) is -9.51619735392994e-16, which is 0. Hence A is singular\n"
     ]
    }
   ],
   "source": [
    "A = np.array([[1,2,3],\n",
    "             [4,5,6],\n",
    "             [7,8,9]])\n",
    "print(f'det(A) is {np.linalg.det(A)}, which is 0. Hence A is singular')"
   ]
  },
  {
   "cell_type": "code",
   "execution_count": 34,
   "metadata": {},
   "outputs": [
    {
     "name": "stdout",
     "output_type": "stream",
     "text": [
      "det(A) is -126.0, which is not 0. Hence A is non-singular\n"
     ]
    }
   ],
   "source": [
    "A = np.array([[0,1,3,4],\n",
    "            [-2,1,2,1],\n",
    "            [2,0,1,0],\n",
    "            [0,8,3,1]])\n",
    "print(f'det(A) is {np.linalg.det(A)}, which is not 0. Hence A is non-singular')"
   ]
  },
  {
   "cell_type": "markdown",
   "metadata": {},
   "source": [
    "### Task 4\n",
    "Find the inverse of each matrix.<br>\n",
    "(a) $\\mathbf{A}=\\begin{bmatrix}2 & 1 \\\\ 3 & 5 \\end{bmatrix}$ <br><br>\n",
    "(b) $\\mathbf{A}=\\begin{bmatrix}1 & 1 & 2 \\\\ 2 & 1 & 1 \\\\ 1 & 2 & 1 \\end{bmatrix}$"
   ]
  },
  {
   "cell_type": "code",
   "execution_count": 39,
   "metadata": {},
   "outputs": [],
   "source": [
    "A = np.array([[2,1],\n",
    "             [3,5]])"
   ]
  },
  {
   "cell_type": "code",
   "execution_count": 40,
   "metadata": {},
   "outputs": [
    {
     "name": "stdout",
     "output_type": "stream",
     "text": [
      "[[ 0.71428571 -0.14285714]\n",
      " [-0.42857143  0.28571429]]\n"
     ]
    }
   ],
   "source": [
    "print(np.linalg.inv(A))"
   ]
  },
  {
   "cell_type": "code",
   "execution_count": 41,
   "metadata": {},
   "outputs": [],
   "source": [
    "A = np.array([[1,1,2],\n",
    "             [2,1,1],\n",
    "             [1,2,1]])"
   ]
  },
  {
   "cell_type": "code",
   "execution_count": 42,
   "metadata": {},
   "outputs": [
    {
     "name": "stdout",
     "output_type": "stream",
     "text": [
      "[[-0.25  0.75 -0.25]\n",
      " [-0.25 -0.25  0.75]\n",
      " [ 0.75 -0.25 -0.25]]\n"
     ]
    }
   ],
   "source": [
    "print(np.linalg.inv(A))"
   ]
  },
  {
   "cell_type": "markdown",
   "metadata": {},
   "source": [
    "### Task 5\n",
    "Determine the norm of each of the following vectors.<br>\n",
    "(a) $\\mathbf{v}_1=\\begin{bmatrix}2 \\\\ -1 \\\\ 1 \\end{bmatrix}$ <br><br>\n",
    "(b) $\\mathbf{v}_2=\\begin{bmatrix}4 \\\\ 0 \\\\ 3 \\\\ -1 \\end{bmatrix}$ <br><br>\n",
    "(c) $\\mathbf{v}_3=\\begin{bmatrix}1 \\\\ 0 \\\\ 2 \\\\ 2 \\\\ 3 \\end{bmatrix}$"
   ]
  },
  {
   "cell_type": "code",
   "execution_count": 43,
   "metadata": {},
   "outputs": [
    {
     "name": "stdout",
     "output_type": "stream",
     "text": [
      "2.449489742783178\n"
     ]
    }
   ],
   "source": [
    "v1 = np.array([[2],[-1],[1]])\n",
    "print(np.linalg.norm(v1))"
   ]
  },
  {
   "cell_type": "code",
   "execution_count": 44,
   "metadata": {},
   "outputs": [
    {
     "name": "stdout",
     "output_type": "stream",
     "text": [
      "5.0990195135927845\n"
     ]
    }
   ],
   "source": [
    "v2 = np.array([[4],[0],[-3],[-1]])\n",
    "print(np.linalg.norm(v2))"
   ]
  },
  {
   "cell_type": "code",
   "execution_count": 45,
   "metadata": {},
   "outputs": [
    {
     "name": "stdout",
     "output_type": "stream",
     "text": [
      "4.242640687119285\n"
     ]
    }
   ],
   "source": [
    "v3 = np.array([[1],[0],[2],[2],[3]])\n",
    "print(np.linalg.norm(v3))"
   ]
  },
  {
   "cell_type": "code",
   "execution_count": null,
   "metadata": {},
   "outputs": [],
   "source": []
  }
 ],
 "metadata": {
  "interpreter": {
   "hash": "7f5a69f5e25dc16f5449b9ad0e7f1d2e708beab69079235475448892e692617b"
  },
  "kernelspec": {
   "display_name": "Python 3.9.7 ('base')",
   "language": "python",
   "name": "python3"
  },
  "language_info": {
   "codemirror_mode": {
    "name": "ipython",
    "version": 3
   },
   "file_extension": ".py",
   "mimetype": "text/x-python",
   "name": "python",
   "nbconvert_exporter": "python",
   "pygments_lexer": "ipython3",
   "version": "3.9.7"
  }
 },
 "nbformat": 4,
 "nbformat_minor": 2
}
